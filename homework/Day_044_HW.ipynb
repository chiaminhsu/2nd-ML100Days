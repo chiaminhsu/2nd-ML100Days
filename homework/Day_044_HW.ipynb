{
 "cells": [
  {
   "cell_type": "markdown",
   "metadata": {},
   "source": [
    "## [作業重點]\n",
    "確保你了解隨機森林模型中每個超參數的意義，並觀察調整超參數對結果的影響"
   ]
  },
  {
   "cell_type": "markdown",
   "metadata": {},
   "source": [
    "## 作業\n",
    "\n",
    "1. 試著調整 RandomForestClassifier(...) 中的參數，並觀察是否會改變結果？\n",
    "2. 改用其他資料集 (boston, wine)，並與回歸模型與決策樹的結果進行比較"
   ]
  },
  {
   "cell_type": "code",
   "execution_count": 21,
   "metadata": {
    "collapsed": true
   },
   "outputs": [],
   "source": [
    "from sklearn import datasets, metrics\n",
    "from sklearn.ensemble import RandomForestClassifier\n",
    "from sklearn.tree import DecisionTreeClassifier, DecisionTreeRegressor\n",
    "from sklearn.model_selection import train_test_split\n",
    "import numpy as np"
   ]
  },
  {
   "cell_type": "code",
   "execution_count": 12,
   "metadata": {
    "collapsed": true
   },
   "outputs": [],
   "source": [
    "def RFC(name, dataset, n_estimators='warn', criterion='gini', max_depth=None, min_samples_split=2, min_samples_leaf=1, min_weight_fraction_leaf=0.0, max_features='auto', max_leaf_nodes=None, min_impurity_decrease=0.0, min_impurity_split=None, bootstrap=True, oob_score=False, n_jobs=None, random_state=None, verbose=0, warm_start=False, class_weight=None):   \n",
    "    x_train, x_test, y_train, y_test = train_test_split(dataset.data, dataset.target, test_size=0.25, random_state=4)\n",
    "    rfc = RandomForestClassifier(n_estimators=n_estimators, criterion=criterion, \n",
    "                                 max_depth=max_depth, min_samples_split=min_samples_split, \n",
    "                                 min_samples_leaf=min_samples_leaf, min_weight_fraction_leaf=min_weight_fraction_leaf, \n",
    "                                 max_features=max_features, max_leaf_nodes=max_leaf_nodes, \n",
    "                                 min_impurity_decrease=min_impurity_decrease, min_impurity_split=min_impurity_split, \n",
    "                                 bootstrap=bootstrap, oob_score=oob_score, n_jobs=n_jobs, \n",
    "                                 random_state=random_state, verbose=verbose, warm_start=warm_start, class_weight=class_weight)\n",
    "    rfc.fit(x_train, y_train)\n",
    "    y_pred = rfc.predict(x_test)\n",
    "    acc = metrics.accuracy_score(y_test, y_pred)\n",
    "    np.set_printoptions(edgeitems=30, linewidth=100000, \n",
    "                        formatter=dict(float=lambda x: \"%.3g\" % x))    \n",
    "    #print(\"Feature importance\", clf.feature_importances_)\n",
    "    print(acc, rfc.feature_importances_)"
   ]
  },
  {
   "cell_type": "code",
   "execution_count": 19,
   "metadata": {
    "collapsed": true
   },
   "outputs": [],
   "source": [
    "def DT_clf(name, dataset, criterion='gini', splitter='best', max_depth=None, min_samples_split=2, min_samples_leaf=1, min_weight_fraction_leaf=0.0, max_features=None, max_leaf_nodes=None):   \n",
    "    x_train, x_test, y_train, y_test = train_test_split(dataset.data, dataset.target, test_size=0.25, random_state=4)\n",
    "    clf = DecisionTreeClassifier(criterion=criterion, \n",
    "                                 splitter=splitter, \n",
    "                                 max_depth=max_depth, min_samples_split=min_samples_split, \n",
    "                                 min_samples_leaf=min_samples_split, \n",
    "                                 min_weight_fraction_leaf=min_weight_fraction_leaf, \n",
    "                                 max_features=max_features, \n",
    "                                 max_leaf_nodes=max_leaf_nodes)\n",
    "    clf.fit(x_train, y_train)\n",
    "    y_pred = clf.predict(x_test)\n",
    "    acc = metrics.accuracy_score(y_test, y_pred)\n",
    "    #print(name)\n",
    "    #print(\"Acuuracy: \", acc)\n",
    "    #print(dataset['feature_names'])\n",
    "    np.set_printoptions(edgeitems=30, linewidth=100000, \n",
    "                        formatter=dict(float=lambda x: \"%.3g\" % x))    \n",
    "    #print(\"Feature importance\", clf.feature_importances_)\n",
    "    print(acc, clf.feature_importances_)"
   ]
  },
  {
   "cell_type": "code",
   "execution_count": 14,
   "metadata": {
    "collapsed": true
   },
   "outputs": [],
   "source": [
    "iris = datasets.load_iris()\n",
    "boston = datasets.load_boston()\n",
    "wine = datasets.load_wine()"
   ]
  },
  {
   "cell_type": "code",
   "execution_count": 15,
   "metadata": {},
   "outputs": [
    {
     "name": "stdout",
     "output_type": "stream",
     "text": [
      "0.973684210526 [0.2 0 0.3 0.5]\n",
      "0.973684210526 [0.0737 0.0155 0.42 0.491]\n",
      "0.973684210526 [0.157 0.0257 0.458 0.36]\n",
      "0.973684210526 [0.159 0.0296 0.348 0.464]\n",
      "0.973684210526 [0.0973 0.0202 0.434 0.448]\n",
      "0.947368421053 [0.137 0.0434 0.409 0.41]\n",
      "0.947368421053 [0.109 0.032 0.504 0.356]\n",
      "0.947368421053 [0.0507 0.0254 0.514 0.41]\n",
      "0.947368421053 [0.0771 0.0215 0.383 0.519]\n"
     ]
    },
    {
     "name": "stderr",
     "output_type": "stream",
     "text": [
      "C:\\Users\\User\\Anaconda3\\lib\\site-packages\\sklearn\\ensemble\\forest.py:246: FutureWarning: The default value of n_estimators will change from 10 in version 0.20 to 100 in 0.22.\n",
      "  \"10 in version 0.20 to 100 in 0.22.\", FutureWarning)\n",
      "C:\\Users\\User\\Anaconda3\\lib\\site-packages\\sklearn\\ensemble\\forest.py:246: FutureWarning: The default value of n_estimators will change from 10 in version 0.20 to 100 in 0.22.\n",
      "  \"10 in version 0.20 to 100 in 0.22.\", FutureWarning)\n",
      "C:\\Users\\User\\Anaconda3\\lib\\site-packages\\sklearn\\ensemble\\forest.py:246: FutureWarning: The default value of n_estimators will change from 10 in version 0.20 to 100 in 0.22.\n",
      "  \"10 in version 0.20 to 100 in 0.22.\", FutureWarning)\n",
      "C:\\Users\\User\\Anaconda3\\lib\\site-packages\\sklearn\\ensemble\\forest.py:246: FutureWarning: The default value of n_estimators will change from 10 in version 0.20 to 100 in 0.22.\n",
      "  \"10 in version 0.20 to 100 in 0.22.\", FutureWarning)\n",
      "C:\\Users\\User\\Anaconda3\\lib\\site-packages\\sklearn\\ensemble\\forest.py:246: FutureWarning: The default value of n_estimators will change from 10 in version 0.20 to 100 in 0.22.\n",
      "  \"10 in version 0.20 to 100 in 0.22.\", FutureWarning)\n",
      "C:\\Users\\User\\Anaconda3\\lib\\site-packages\\sklearn\\ensemble\\forest.py:246: FutureWarning: The default value of n_estimators will change from 10 in version 0.20 to 100 in 0.22.\n",
      "  \"10 in version 0.20 to 100 in 0.22.\", FutureWarning)\n",
      "C:\\Users\\User\\Anaconda3\\lib\\site-packages\\sklearn\\ensemble\\forest.py:246: FutureWarning: The default value of n_estimators will change from 10 in version 0.20 to 100 in 0.22.\n",
      "  \"10 in version 0.20 to 100 in 0.22.\", FutureWarning)\n",
      "C:\\Users\\User\\Anaconda3\\lib\\site-packages\\sklearn\\ensemble\\forest.py:246: FutureWarning: The default value of n_estimators will change from 10 in version 0.20 to 100 in 0.22.\n",
      "  \"10 in version 0.20 to 100 in 0.22.\", FutureWarning)\n",
      "C:\\Users\\User\\Anaconda3\\lib\\site-packages\\sklearn\\ensemble\\forest.py:246: FutureWarning: The default value of n_estimators will change from 10 in version 0.20 to 100 in 0.22.\n",
      "  \"10 in version 0.20 to 100 in 0.22.\", FutureWarning)\n"
     ]
    }
   ],
   "source": [
    "for i in range(1,10):\n",
    "    RFC('iris', iris, max_depth=i)"
   ]
  },
  {
   "cell_type": "code",
   "execution_count": 22,
   "metadata": {},
   "outputs": [
    {
     "name": "stdout",
     "output_type": "stream",
     "text": [
      "0.684210526316 [0 0 0 1]\n",
      "0.973684210526 [0 0 0 1]\n",
      "0.973684210526 [0 0 0.558 0.442]\n",
      "0.973684210526 [0.0134 0 0.554 0.433]\n",
      "0.973684210526 [0.0134 0 0.554 0.433]\n",
      "0.973684210526 [0.0134 0 0.554 0.433]\n",
      "0.973684210526 [0.0134 0 0.554 0.433]\n",
      "0.973684210526 [0.0134 0 0.554 0.433]\n",
      "0.973684210526 [0.0205 0 0.547 0.433]\n"
     ]
    }
   ],
   "source": [
    "for i in range(1,10):\n",
    "    DT_clf('iris', iris, max_depth=i)"
   ]
  },
  {
   "cell_type": "code",
   "execution_count": 23,
   "metadata": {},
   "outputs": [
    {
     "name": "stdout",
     "output_type": "stream",
     "text": [
      "0.888888888889 [0.2 0 0 0 0 0 0.1 0 0.1 0.3 0.3 0 0]\n",
      "0.977777777778 [0.144 0.0221 0.0237 0 0.0997 0 0.0629 0.024 0 0.181 0.198 0.129 0.115]\n",
      "0.977777777778 [0.155 0.0174 0.0237 0.0199 0.00764 0.0121 0.227 0.00296 0.0304 0.185 0.0706 0.0876 0.161]\n",
      "1.0 [0.153 0.0161 0.0107 0.0225 0.0513 0.069 0.244 0.000819 0.0208 0.184 0.0719 0.0544 0.102]\n",
      "0.977777777778 [0.119 0.00931 0.0165 0.0256 0.0163 0.0226 0.0528 0.0256 0.0582 0.187 0.0153 0.276 0.175]\n",
      "0.977777777778 [0.16 0.0262 0.0162 0.0373 0.0266 0.0708 0.19 0.0043 0.0108 0.197 0.0986 0.0205 0.143]\n",
      "0.977777777778 [0.124 0.0356 0.0135 0.041 0.0166 0.018 0.134 0.0119 0.00761 0.186 0.0807 0.0672 0.265]\n",
      "0.955555555556 [0.164 0 0.0139 0.0138 0.0326 0.0234 0.243 0.0054 0.0325 0.127 0.0758 0.0766 0.192]\n",
      "0.955555555556 [0.0588 0.0105 0.0103 0.0454 0.0273 0.0719 0.0693 0.0132 0.0191 0.204 0.147 0.123 0.2]\n"
     ]
    },
    {
     "name": "stderr",
     "output_type": "stream",
     "text": [
      "C:\\Users\\User\\Anaconda3\\lib\\site-packages\\sklearn\\ensemble\\forest.py:246: FutureWarning: The default value of n_estimators will change from 10 in version 0.20 to 100 in 0.22.\n",
      "  \"10 in version 0.20 to 100 in 0.22.\", FutureWarning)\n",
      "C:\\Users\\User\\Anaconda3\\lib\\site-packages\\sklearn\\ensemble\\forest.py:246: FutureWarning: The default value of n_estimators will change from 10 in version 0.20 to 100 in 0.22.\n",
      "  \"10 in version 0.20 to 100 in 0.22.\", FutureWarning)\n",
      "C:\\Users\\User\\Anaconda3\\lib\\site-packages\\sklearn\\ensemble\\forest.py:246: FutureWarning: The default value of n_estimators will change from 10 in version 0.20 to 100 in 0.22.\n",
      "  \"10 in version 0.20 to 100 in 0.22.\", FutureWarning)\n",
      "C:\\Users\\User\\Anaconda3\\lib\\site-packages\\sklearn\\ensemble\\forest.py:246: FutureWarning: The default value of n_estimators will change from 10 in version 0.20 to 100 in 0.22.\n",
      "  \"10 in version 0.20 to 100 in 0.22.\", FutureWarning)\n",
      "C:\\Users\\User\\Anaconda3\\lib\\site-packages\\sklearn\\ensemble\\forest.py:246: FutureWarning: The default value of n_estimators will change from 10 in version 0.20 to 100 in 0.22.\n",
      "  \"10 in version 0.20 to 100 in 0.22.\", FutureWarning)\n",
      "C:\\Users\\User\\Anaconda3\\lib\\site-packages\\sklearn\\ensemble\\forest.py:246: FutureWarning: The default value of n_estimators will change from 10 in version 0.20 to 100 in 0.22.\n",
      "  \"10 in version 0.20 to 100 in 0.22.\", FutureWarning)\n",
      "C:\\Users\\User\\Anaconda3\\lib\\site-packages\\sklearn\\ensemble\\forest.py:246: FutureWarning: The default value of n_estimators will change from 10 in version 0.20 to 100 in 0.22.\n",
      "  \"10 in version 0.20 to 100 in 0.22.\", FutureWarning)\n",
      "C:\\Users\\User\\Anaconda3\\lib\\site-packages\\sklearn\\ensemble\\forest.py:246: FutureWarning: The default value of n_estimators will change from 10 in version 0.20 to 100 in 0.22.\n",
      "  \"10 in version 0.20 to 100 in 0.22.\", FutureWarning)\n",
      "C:\\Users\\User\\Anaconda3\\lib\\site-packages\\sklearn\\ensemble\\forest.py:246: FutureWarning: The default value of n_estimators will change from 10 in version 0.20 to 100 in 0.22.\n",
      "  \"10 in version 0.20 to 100 in 0.22.\", FutureWarning)\n"
     ]
    }
   ],
   "source": [
    "for i in range(1,10):\n",
    "    RFC('wine', wine, max_depth=i)"
   ]
  },
  {
   "cell_type": "code",
   "execution_count": 24,
   "metadata": {},
   "outputs": [
    {
     "name": "stdout",
     "output_type": "stream",
     "text": [
      "0.644444444444 [0 0 0 0 0 0 0 0 0 0 0 0 1]\n",
      "0.888888888889 [0 0 0 0 0 0 0.101 0 0 0.417 0 0 0.481]\n",
      "0.866666666667 [0 0 0 0 0.0467 0.0864 0.0455 0 0 0.357 0 0.0527 0.412]\n",
      "0.866666666667 [0.0142 0 0 0.00723 0.046 0 0.0449 0 0 0.352 0 0.13 0.406]\n",
      "0.888888888889 [0.0138 0.0311 0 0 0 0 0.0825 0 0 0.386 0.007 0.0868 0.393]\n",
      "0.866666666667 [0.0449 0 0.007 0 0.0446 0.0435 0.0825 0 0 0.341 0 0.0434 0.393]\n",
      "0.844444444444 [0.0208 0 0 0 0.0446 0 0 0 0 0.372 0 0.169 0.393]\n",
      "0.866666666667 [0.0449 0 0 0 0.0446 0.0505 0 0 0 0.341 0 0.126 0.393]\n",
      "0.866666666667 [0.0138 0.0311 0 0 0.0446 0.126 0.007 0 0 0.341 0 0.0434 0.393]\n"
     ]
    }
   ],
   "source": [
    "for i in range(1,10):\n",
    "    DT_clf('wine', wine, max_depth=i)"
   ]
  },
  {
   "cell_type": "code",
   "execution_count": null,
   "metadata": {
    "collapsed": true
   },
   "outputs": [],
   "source": []
  }
 ],
 "metadata": {
  "kernelspec": {
   "display_name": "Python 3",
   "language": "python",
   "name": "python3"
  },
  "language_info": {
   "codemirror_mode": {
    "name": "ipython",
    "version": 3
   },
   "file_extension": ".py",
   "mimetype": "text/x-python",
   "name": "python",
   "nbconvert_exporter": "python",
   "pygments_lexer": "ipython3",
   "version": "3.6.3"
  }
 },
 "nbformat": 4,
 "nbformat_minor": 2
}

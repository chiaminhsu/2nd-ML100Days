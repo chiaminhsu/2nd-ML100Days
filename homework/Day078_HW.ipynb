{
 "cells": [
  {
   "cell_type": "markdown",
   "metadata": {},
   "source": [
    "## Work\n",
    "1. 請嘗試將 preproc_x 替換成以每筆資料的 min/max 進行標準化至 -1 ~ 1 間，再進行訓練\n",
    "2. 請嘗試將 mlp 疊更深 (e.g 5~10 層)，進行訓練後觀察 learning curve 的走勢\n",
    "3. (optional) 請改用 GPU 進行訓練 (如果你有 GPU 的話)，比較使用 CPU 與 GPU 的訓練速度"
   ]
  },
  {
   "cell_type": "code",
   "execution_count": 1,
   "metadata": {},
   "outputs": [
    {
     "name": "stdout",
     "output_type": "stream",
     "text": [
      "Tue Aug 13 01:34:57 2019       \n",
      "+-----------------------------------------------------------------------------+\n",
      "| NVIDIA-SMI 431.36       Driver Version: 431.36       CUDA Version: 10.1     |\n",
      "|-------------------------------+----------------------+----------------------+\n",
      "| GPU  Name            TCC/WDDM | Bus-Id        Disp.A | Volatile Uncorr. ECC |\n",
      "| Fan  Temp  Perf  Pwr:Usage/Cap|         Memory-Usage | GPU-Util  Compute M. |\n",
      "|===============================+======================+======================|\n",
      "|   0  GeForce GTX 1080   WDDM  | 00000000:01:00.0  On |                  N/A |\n",
      "| 28%   51C    P8    10W / 200W |    795MiB /  8192MiB |      0%      Default |\n",
      "+-------------------------------+----------------------+----------------------+\n",
      "                                                                               \n",
      "+-----------------------------------------------------------------------------+\n",
      "| Processes:                                                       GPU Memory |\n",
      "|  GPU       PID   Type   Process name                             Usage      |\n",
      "|=============================================================================|\n",
      "|    0      2408    C+G   ...50.38.0_x64__kzf8qxf38zg5c\\SkypeApp.exe N/A      |\n",
      "|    0      2724    C+G   C:\\Windows\\System32\\MicrosoftEdgeCP.exe    N/A      |\n",
      "|    0      2764    C+G   ...oftEdge_8wekyb3d8bbwe\\MicrosoftEdge.exe N/A      |\n",
      "|    0      4364    C+G   ...DIA GeForce Experience\\NVIDIA Share.exe N/A      |\n",
      "|    0      6060    C+G   ...osoft.LockApp_cw5n1h2txyewy\\LockApp.exe N/A      |\n",
      "|    0      6072    C+G   ...t_cw5n1h2txyewy\\ShellExperienceHost.exe N/A      |\n",
      "|    0      6152    C+G   ...hell.Experiences.TextInput.InputApp.exe N/A      |\n",
      "|    0      8096    C+G   C:\\Windows\\System32\\MicrosoftEdgeCP.exe    N/A      |\n",
      "|    0     12028    C+G   ....866.0_x64__8wekyb3d8bbwe\\YourPhone.exe N/A      |\n",
      "|    0     13604    C+G   ...mmersiveControlPanel\\SystemSettings.exe N/A      |\n",
      "|    0     14188    C+G   ..._x64__8wekyb3d8bbwe\\Microsoft.Notes.exe N/A      |\n",
      "|    0     14596    C+G   ...11411.0_x64__8wekyb3d8bbwe\\Video.UI.exe N/A      |\n",
      "|    0     14808    C+G   ...x64__8wekyb3d8bbwe\\Microsoft.Photos.exe N/A      |\n",
      "|    0     15188    C+G   C:\\Windows\\explorer.exe                    N/A      |\n",
      "|    0     16068    C+G   C:\\Windows\\System32\\MicrosoftEdgeCP.exe    N/A      |\n",
      "|    0     16588    C+G   ...6)\\Google\\Chrome\\Application\\chrome.exe N/A      |\n",
      "|    0     17792    C+G   C:\\Windows\\System32\\MicrosoftEdgeCP.exe    N/A      |\n",
      "|    0     19044    C+G   Insufficient Permissions                   N/A      |\n",
      "|    0     19564    C+G   ...tHubDesktop\\app-2.1.0\\GitHubDesktop.exe N/A      |\n",
      "|    0     20300    C+G   ...AppData\\Local\\LINE\\bin\\current\\LINE.exe N/A      |\n",
      "|    0     20368    C+G   ...dows.Cortana_cw5n1h2txyewy\\SearchUI.exe N/A      |\n",
      "+-----------------------------------------------------------------------------+\n"
     ]
    }
   ],
   "source": [
    "\"\"\"\n",
    "Your code here (optional)\n",
    "\"\"\"\n",
    "!nvidia-smi.exe"
   ]
  },
  {
   "cell_type": "code",
   "execution_count": 2,
   "metadata": {},
   "outputs": [
    {
     "name": "stderr",
     "output_type": "stream",
     "text": [
      "Using TensorFlow backend.\n"
     ]
    }
   ],
   "source": [
    "import os\n",
    "import keras\n",
    "\n",
    "# 請嘗試設定 GPU：os.environ\n",
    "os.environ[\"CUDA_VISIBLE_DEVICES\"] = \"0\""
   ]
  },
  {
   "cell_type": "code",
   "execution_count": 3,
   "metadata": {},
   "outputs": [],
   "source": [
    "train, test = keras.datasets.cifar10.load_data()"
   ]
  },
  {
   "cell_type": "code",
   "execution_count": 4,
   "metadata": {},
   "outputs": [],
   "source": [
    "## 資料前處理\n",
    "\"\"\"\n",
    "Your code here\n",
    "\"\"\"\n",
    "def preproc_x(x, flatten=True):\n",
    "    min_x = x.min()\n",
    "    max_x = x.max()\n",
    "    x = -1 + 2*(x-min_x)/(max_x-min_x)\n",
    "    if flatten:\n",
    "        x = x.reshape((len(x),-1))\n",
    "    return x\n",
    "\n",
    "def preproc_y(y, num_classes=10):\n",
    "    if y.shape[-1] == 1:\n",
    "        y = keras.utils.to_categorical(y, num_classes)\n",
    "    return y"
   ]
  },
  {
   "cell_type": "code",
   "execution_count": 5,
   "metadata": {},
   "outputs": [
    {
     "name": "stdout",
     "output_type": "stream",
     "text": [
      "load data\n",
      "x_train (50000, 32, 32, 3)\n",
      "y_train (50000, 1)\n",
      "x_test (10000, 32, 32, 3)\n",
      "y_test (10000, 1)\n",
      "after pre-process\n",
      "x_train (50000, 3072)\n",
      "y_train (50000, 10)\n",
      "x_test (10000, 3072)\n",
      "y_test (10000, 10)\n"
     ]
    }
   ],
   "source": [
    "x_train, y_train = train\n",
    "x_test, y_test = test\n",
    "print('load data')\n",
    "print('x_train', x_train.shape)\n",
    "print('y_train', y_train.shape)\n",
    "print('x_test', x_test.shape)\n",
    "print('y_test', y_test.shape)\n",
    "\n",
    "# Preproc the inputs\n",
    "x_train = preproc_x(x_train)\n",
    "x_test = preproc_x(x_test)\n",
    "\n",
    "# Preprc the outputs\n",
    "y_train = preproc_y(y_train)\n",
    "y_test = preproc_y(y_test)\n",
    "print('after pre-process')\n",
    "print('x_train', x_train.shape)\n",
    "print('y_train', y_train.shape)\n",
    "print('x_test', x_test.shape)\n",
    "print('y_test', y_test.shape)"
   ]
  },
  {
   "cell_type": "code",
   "execution_count": 6,
   "metadata": {},
   "outputs": [],
   "source": [
    "def build_mlp(input_shape, output_units=10, num_neurons=[512, 256, 128, 128, 64]):\n",
    "    input_layer = keras.layers.Input(input_shape)\n",
    "    \n",
    "    for i, n_units in enumerate(num_neurons):\n",
    "        if i == 0:\n",
    "            x = keras.layers.Dense(units=n_units, activation=\"relu\", name=\"hidden_layer\"+str(i+1))(input_layer)\n",
    "        else:\n",
    "            x = keras.layers.Dense(units=n_units, activation=\"relu\", name=\"hidden_layer\"+str(i+1))(x)\n",
    "    \n",
    "    out = keras.layers.Dense(units=output_units, activation=\"softmax\", name=\"output\")(x)\n",
    "    \n",
    "    model = keras.models.Model(inputs=[input_layer], outputs=[out])\n",
    "    return model"
   ]
  },
  {
   "cell_type": "code",
   "execution_count": 7,
   "metadata": {},
   "outputs": [
    {
     "name": "stdout",
     "output_type": "stream",
     "text": [
      "WARNING:tensorflow:From C:\\Users\\User\\Anaconda3\\lib\\site-packages\\tensorflow\\python\\framework\\op_def_library.py:263: colocate_with (from tensorflow.python.framework.ops) is deprecated and will be removed in a future version.\n",
      "Instructions for updating:\n",
      "Colocations handled automatically by placer.\n",
      "_________________________________________________________________\n",
      "Layer (type)                 Output Shape              Param #   \n",
      "=================================================================\n",
      "input_1 (InputLayer)         (None, 3072)              0         \n",
      "_________________________________________________________________\n",
      "hidden_layer1 (Dense)        (None, 512)               1573376   \n",
      "_________________________________________________________________\n",
      "hidden_layer2 (Dense)        (None, 256)               131328    \n",
      "_________________________________________________________________\n",
      "hidden_layer3 (Dense)        (None, 128)               32896     \n",
      "_________________________________________________________________\n",
      "hidden_layer4 (Dense)        (None, 128)               16512     \n",
      "_________________________________________________________________\n",
      "hidden_layer5 (Dense)        (None, 64)                8256      \n",
      "_________________________________________________________________\n",
      "output (Dense)               (None, 10)                650       \n",
      "=================================================================\n",
      "Total params: 1,763,018\n",
      "Trainable params: 1,763,018\n",
      "Non-trainable params: 0\n",
      "_________________________________________________________________\n"
     ]
    }
   ],
   "source": [
    "model = build_mlp(input_shape=x_train.shape[1:])\n",
    "model.summary()"
   ]
  },
  {
   "cell_type": "code",
   "execution_count": 8,
   "metadata": {},
   "outputs": [],
   "source": [
    "## 超參數設定\n",
    "LEARNING_RATE = 0.002\n",
    "EPOCHS = 100\n",
    "BATCH_SIZE = 256"
   ]
  },
  {
   "cell_type": "code",
   "execution_count": 9,
   "metadata": {},
   "outputs": [],
   "source": [
    "optimizer = keras.optimizers.Adam(lr=LEARNING_RATE)\n",
    "model.compile(loss=\"categorical_crossentropy\", metrics=[\"accuracy\"], optimizer=optimizer)"
   ]
  },
  {
   "cell_type": "code",
   "execution_count": 10,
   "metadata": {},
   "outputs": [
    {
     "name": "stdout",
     "output_type": "stream",
     "text": [
      "WARNING:tensorflow:From C:\\Users\\User\\Anaconda3\\lib\\site-packages\\tensorflow\\python\\ops\\math_ops.py:3066: to_int32 (from tensorflow.python.ops.math_ops) is deprecated and will be removed in a future version.\n",
      "Instructions for updating:\n",
      "Use tf.cast instead.\n",
      "Train on 50000 samples, validate on 10000 samples\n",
      "Epoch 1/100\n",
      "50000/50000 [==============================] - 5s 95us/step - loss: 2.2755 - acc: 0.1340 - val_loss: 2.2397 - val_acc: 0.1487\n",
      "Epoch 2/100\n",
      "50000/50000 [==============================] - 3s 53us/step - loss: 2.1587 - acc: 0.1997 - val_loss: 2.1501 - val_acc: 0.2046\n",
      "Epoch 3/100\n",
      "50000/50000 [==============================] - 3s 52us/step - loss: 2.0927 - acc: 0.2302 - val_loss: 2.0845 - val_acc: 0.2377\n",
      "Epoch 4/100\n",
      "50000/50000 [==============================] - 3s 54us/step - loss: 2.0405 - acc: 0.2570 - val_loss: 2.0463 - val_acc: 0.2523\n",
      "Epoch 5/100\n",
      "50000/50000 [==============================] - 3s 55us/step - loss: 2.0086 - acc: 0.2689 - val_loss: 2.0207 - val_acc: 0.2567\n",
      "Epoch 6/100\n",
      "50000/50000 [==============================] - 3s 54us/step - loss: 1.9801 - acc: 0.2806 - val_loss: 2.0133 - val_acc: 0.2631\n",
      "Epoch 7/100\n",
      "50000/50000 [==============================] - 3s 54us/step - loss: 1.9507 - acc: 0.2940 - val_loss: 1.9946 - val_acc: 0.2780\n",
      "Epoch 8/100\n",
      "50000/50000 [==============================] - 3s 53us/step - loss: 1.9233 - acc: 0.3056 - val_loss: 1.9933 - val_acc: 0.2768\n",
      "Epoch 9/100\n",
      "50000/50000 [==============================] - 3s 55us/step - loss: 1.9068 - acc: 0.3111 - val_loss: 1.9941 - val_acc: 0.2749\n",
      "Epoch 10/100\n",
      "50000/50000 [==============================] - 3s 53us/step - loss: 1.8770 - acc: 0.3225 - val_loss: 1.9936 - val_acc: 0.2770\n",
      "Epoch 11/100\n",
      "50000/50000 [==============================] - 3s 54us/step - loss: 1.8563 - acc: 0.3360 - val_loss: 2.0049 - val_acc: 0.2770\n",
      "Epoch 12/100\n",
      "50000/50000 [==============================] - 3s 53us/step - loss: 1.8391 - acc: 0.3363 - val_loss: 1.9815 - val_acc: 0.2919\n",
      "Epoch 13/100\n",
      "50000/50000 [==============================] - 3s 53us/step - loss: 1.8149 - acc: 0.3482 - val_loss: 1.9853 - val_acc: 0.2867\n",
      "Epoch 14/100\n",
      "50000/50000 [==============================] - 3s 53us/step - loss: 1.7849 - acc: 0.3612 - val_loss: 2.0238 - val_acc: 0.2844\n",
      "Epoch 15/100\n",
      "50000/50000 [==============================] - 3s 53us/step - loss: 1.7699 - acc: 0.3656 - val_loss: 2.0285 - val_acc: 0.2848\n",
      "Epoch 16/100\n",
      "50000/50000 [==============================] - 3s 53us/step - loss: 1.7379 - acc: 0.3786 - val_loss: 2.0173 - val_acc: 0.2896\n",
      "Epoch 17/100\n",
      "50000/50000 [==============================] - 3s 53us/step - loss: 1.7217 - acc: 0.3837 - val_loss: 2.0413 - val_acc: 0.2908\n",
      "Epoch 18/100\n",
      "50000/50000 [==============================] - 3s 53us/step - loss: 1.6978 - acc: 0.3940 - val_loss: 2.0315 - val_acc: 0.2854\n",
      "Epoch 19/100\n",
      "50000/50000 [==============================] - 3s 53us/step - loss: 1.6796 - acc: 0.3998 - val_loss: 2.0579 - val_acc: 0.2934\n",
      "Epoch 20/100\n",
      "50000/50000 [==============================] - 3s 53us/step - loss: 1.6497 - acc: 0.4102 - val_loss: 2.0835 - val_acc: 0.2922\n",
      "Epoch 21/100\n",
      "50000/50000 [==============================] - 3s 53us/step - loss: 1.6323 - acc: 0.4183 - val_loss: 2.0474 - val_acc: 0.2962\n",
      "Epoch 22/100\n",
      "50000/50000 [==============================] - 3s 54us/step - loss: 1.6030 - acc: 0.4290 - val_loss: 2.0548 - val_acc: 0.2951\n",
      "Epoch 23/100\n",
      "50000/50000 [==============================] - 3s 54us/step - loss: 1.5830 - acc: 0.4340 - val_loss: 2.0764 - val_acc: 0.2943\n",
      "Epoch 24/100\n",
      "50000/50000 [==============================] - 3s 54us/step - loss: 1.5749 - acc: 0.4347 - val_loss: 2.0750 - val_acc: 0.2953\n",
      "Epoch 25/100\n",
      "50000/50000 [==============================] - 3s 53us/step - loss: 1.5303 - acc: 0.4535 - val_loss: 2.1264 - val_acc: 0.2923\n",
      "Epoch 26/100\n",
      "50000/50000 [==============================] - 3s 53us/step - loss: 1.5066 - acc: 0.4612 - val_loss: 2.1339 - val_acc: 0.2929\n",
      "Epoch 27/100\n",
      "50000/50000 [==============================] - 3s 53us/step - loss: 1.4998 - acc: 0.4645 - val_loss: 2.1360 - val_acc: 0.2910\n",
      "Epoch 28/100\n",
      "50000/50000 [==============================] - 3s 53us/step - loss: 1.4711 - acc: 0.4712 - val_loss: 2.2262 - val_acc: 0.2868\n",
      "Epoch 29/100\n",
      "50000/50000 [==============================] - 3s 53us/step - loss: 1.4443 - acc: 0.4843 - val_loss: 2.2099 - val_acc: 0.2922\n",
      "Epoch 30/100\n",
      "50000/50000 [==============================] - 3s 53us/step - loss: 1.4077 - acc: 0.4969 - val_loss: 2.2477 - val_acc: 0.2815\n",
      "Epoch 31/100\n",
      "50000/50000 [==============================] - 3s 54us/step - loss: 1.3982 - acc: 0.4975 - val_loss: 2.3179 - val_acc: 0.2830\n",
      "Epoch 32/100\n",
      "50000/50000 [==============================] - 3s 54us/step - loss: 1.3728 - acc: 0.5067 - val_loss: 2.2549 - val_acc: 0.2897\n",
      "Epoch 33/100\n",
      "50000/50000 [==============================] - 3s 54us/step - loss: 1.3493 - acc: 0.5154 - val_loss: 2.3047 - val_acc: 0.2811\n",
      "Epoch 34/100\n",
      "50000/50000 [==============================] - 3s 54us/step - loss: 1.3321 - acc: 0.5217 - val_loss: 2.3385 - val_acc: 0.2840\n",
      "Epoch 35/100\n",
      "50000/50000 [==============================] - 3s 54us/step - loss: 1.2922 - acc: 0.5340 - val_loss: 2.3726 - val_acc: 0.2833\n",
      "Epoch 36/100\n",
      "50000/50000 [==============================] - 3s 53us/step - loss: 1.2845 - acc: 0.5405 - val_loss: 2.4016 - val_acc: 0.2866\n",
      "Epoch 37/100\n",
      "50000/50000 [==============================] - 3s 53us/step - loss: 1.2730 - acc: 0.5419 - val_loss: 2.5307 - val_acc: 0.2789\n",
      "Epoch 38/100\n",
      "50000/50000 [==============================] - 3s 53us/step - loss: 1.2570 - acc: 0.5478 - val_loss: 2.4379 - val_acc: 0.2750\n",
      "Epoch 39/100\n",
      "50000/50000 [==============================] - 3s 55us/step - loss: 1.2484 - acc: 0.5516 - val_loss: 2.6254 - val_acc: 0.2689\n",
      "Epoch 40/100\n",
      "50000/50000 [==============================] - 3s 56us/step - loss: 1.1995 - acc: 0.5675 - val_loss: 2.6477 - val_acc: 0.2656\n",
      "Epoch 41/100\n",
      "50000/50000 [==============================] - 3s 55us/step - loss: 1.1841 - acc: 0.5746 - val_loss: 2.7266 - val_acc: 0.2699\n",
      "Epoch 42/100\n",
      "50000/50000 [==============================] - 3s 54us/step - loss: 1.1626 - acc: 0.5796 - val_loss: 2.7071 - val_acc: 0.2767\n",
      "Epoch 43/100\n",
      "50000/50000 [==============================] - 3s 55us/step - loss: 1.1499 - acc: 0.5853 - val_loss: 2.7156 - val_acc: 0.2717\n",
      "Epoch 44/100\n",
      "50000/50000 [==============================] - 3s 55us/step - loss: 1.1214 - acc: 0.5971 - val_loss: 2.6809 - val_acc: 0.2765\n",
      "Epoch 45/100\n",
      "50000/50000 [==============================] - 3s 54us/step - loss: 1.1306 - acc: 0.5929 - val_loss: 2.6145 - val_acc: 0.2770\n",
      "Epoch 46/100\n",
      "50000/50000 [==============================] - 3s 54us/step - loss: 1.0799 - acc: 0.6104 - val_loss: 2.9139 - val_acc: 0.2748\n",
      "Epoch 47/100\n",
      "50000/50000 [==============================] - 3s 54us/step - loss: 1.0782 - acc: 0.6101 - val_loss: 2.8408 - val_acc: 0.2728\n",
      "Epoch 48/100\n",
      "50000/50000 [==============================] - 3s 55us/step - loss: 1.0858 - acc: 0.6095 - val_loss: 2.7796 - val_acc: 0.2745\n",
      "Epoch 49/100\n",
      "50000/50000 [==============================] - 3s 54us/step - loss: 1.0590 - acc: 0.6182 - val_loss: 2.9162 - val_acc: 0.2723\n",
      "Epoch 50/100\n",
      "50000/50000 [==============================] - 3s 53us/step - loss: 1.0375 - acc: 0.6258 - val_loss: 2.9340 - val_acc: 0.2695\n",
      "Epoch 51/100\n",
      "50000/50000 [==============================] - 3s 53us/step - loss: 1.0193 - acc: 0.6327 - val_loss: 2.8649 - val_acc: 0.2773\n",
      "Epoch 52/100\n",
      "50000/50000 [==============================] - 3s 54us/step - loss: 1.0221 - acc: 0.6308 - val_loss: 2.9589 - val_acc: 0.2716\n",
      "Epoch 53/100\n",
      "50000/50000 [==============================] - 3s 53us/step - loss: 1.0011 - acc: 0.6382 - val_loss: 3.0963 - val_acc: 0.2738\n",
      "Epoch 54/100\n",
      "50000/50000 [==============================] - 3s 53us/step - loss: 0.9925 - acc: 0.6429 - val_loss: 3.0587 - val_acc: 0.2695\n",
      "Epoch 55/100\n",
      "50000/50000 [==============================] - 3s 54us/step - loss: 0.9757 - acc: 0.6454 - val_loss: 3.1321 - val_acc: 0.2729\n",
      "Epoch 56/100\n",
      "50000/50000 [==============================] - 3s 54us/step - loss: 0.9301 - acc: 0.6641 - val_loss: 3.3598 - val_acc: 0.2566\n",
      "Epoch 57/100\n",
      "50000/50000 [==============================] - 3s 53us/step - loss: 0.9707 - acc: 0.6511 - val_loss: 3.1087 - val_acc: 0.2685\n"
     ]
    },
    {
     "name": "stdout",
     "output_type": "stream",
     "text": [
      "Epoch 58/100\n",
      "50000/50000 [==============================] - 3s 53us/step - loss: 0.9403 - acc: 0.6615 - val_loss: 3.2821 - val_acc: 0.2668\n",
      "Epoch 59/100\n",
      "50000/50000 [==============================] - 3s 53us/step - loss: 0.9016 - acc: 0.6745 - val_loss: 3.3509 - val_acc: 0.2722\n",
      "Epoch 60/100\n",
      "50000/50000 [==============================] - 3s 54us/step - loss: 0.9325 - acc: 0.6637 - val_loss: 3.1953 - val_acc: 0.2651\n",
      "Epoch 61/100\n",
      "50000/50000 [==============================] - 3s 54us/step - loss: 0.8720 - acc: 0.6851 - val_loss: 3.4086 - val_acc: 0.2600\n",
      "Epoch 62/100\n",
      "50000/50000 [==============================] - 3s 54us/step - loss: 0.8843 - acc: 0.6817 - val_loss: 3.5131 - val_acc: 0.2616\n",
      "Epoch 63/100\n",
      "50000/50000 [==============================] - 3s 53us/step - loss: 0.8836 - acc: 0.6826 - val_loss: 3.3967 - val_acc: 0.2599\n",
      "Epoch 64/100\n",
      "50000/50000 [==============================] - 3s 54us/step - loss: 0.8701 - acc: 0.6859 - val_loss: 3.5177 - val_acc: 0.2683\n",
      "Epoch 65/100\n",
      "50000/50000 [==============================] - 3s 54us/step - loss: 0.8278 - acc: 0.7035 - val_loss: 3.7046 - val_acc: 0.2695\n",
      "Epoch 66/100\n",
      "50000/50000 [==============================] - 3s 54us/step - loss: 0.8395 - acc: 0.6975 - val_loss: 3.5888 - val_acc: 0.2694\n",
      "Epoch 67/100\n",
      "50000/50000 [==============================] - 3s 54us/step - loss: 0.8300 - acc: 0.7007 - val_loss: 3.7128 - val_acc: 0.2603\n",
      "Epoch 68/100\n",
      "50000/50000 [==============================] - 3s 54us/step - loss: 0.7996 - acc: 0.7123 - val_loss: 3.8380 - val_acc: 0.2619\n",
      "Epoch 69/100\n",
      "50000/50000 [==============================] - 3s 54us/step - loss: 0.7935 - acc: 0.7150 - val_loss: 3.7558 - val_acc: 0.2629\n",
      "Epoch 70/100\n",
      "50000/50000 [==============================] - 3s 53us/step - loss: 0.7827 - acc: 0.7189 - val_loss: 3.7236 - val_acc: 0.2650\n",
      "Epoch 71/100\n",
      "50000/50000 [==============================] - 3s 53us/step - loss: 0.8175 - acc: 0.7068 - val_loss: 3.7788 - val_acc: 0.2705\n",
      "Epoch 72/100\n",
      "50000/50000 [==============================] - 3s 53us/step - loss: 0.7798 - acc: 0.7198 - val_loss: 3.9111 - val_acc: 0.2600\n",
      "Epoch 73/100\n",
      "50000/50000 [==============================] - 3s 54us/step - loss: 0.7605 - acc: 0.7261 - val_loss: 3.8162 - val_acc: 0.2561\n",
      "Epoch 74/100\n",
      "50000/50000 [==============================] - 3s 54us/step - loss: 0.7282 - acc: 0.7374 - val_loss: 4.2261 - val_acc: 0.2644\n",
      "Epoch 75/100\n",
      "50000/50000 [==============================] - 3s 53us/step - loss: 0.7128 - acc: 0.7428 - val_loss: 4.0378 - val_acc: 0.2673\n",
      "Epoch 76/100\n",
      "50000/50000 [==============================] - 3s 53us/step - loss: 0.7905 - acc: 0.7171 - val_loss: 3.8726 - val_acc: 0.25861 - acc: 0\n",
      "Epoch 77/100\n",
      "50000/50000 [==============================] - 3s 55us/step - loss: 0.7588 - acc: 0.7320 - val_loss: 4.0412 - val_acc: 0.2598\n",
      "Epoch 78/100\n",
      "50000/50000 [==============================] - 3s 55us/step - loss: 0.7054 - acc: 0.7443 - val_loss: 4.1937 - val_acc: 0.2709\n",
      "Epoch 79/100\n",
      "50000/50000 [==============================] - 3s 55us/step - loss: 0.7375 - acc: 0.7368 - val_loss: 4.0520 - val_acc: 0.2597\n",
      "Epoch 80/100\n",
      "50000/50000 [==============================] - 3s 55us/step - loss: 0.6690 - acc: 0.7596 - val_loss: 4.1010 - val_acc: 0.2575\n",
      "Epoch 81/100\n",
      "50000/50000 [==============================] - 3s 56us/step - loss: 0.6801 - acc: 0.7567 - val_loss: 4.2655 - val_acc: 0.2608\n",
      "Epoch 82/100\n",
      "50000/50000 [==============================] - 3s 53us/step - loss: 0.6838 - acc: 0.7541 - val_loss: 4.5170 - val_acc: 0.2536\n",
      "Epoch 83/100\n",
      "50000/50000 [==============================] - 3s 54us/step - loss: 0.7263 - acc: 0.7398 - val_loss: 4.1469 - val_acc: 0.2651\n",
      "Epoch 84/100\n",
      "50000/50000 [==============================] - 3s 54us/step - loss: 0.6542 - acc: 0.7648 - val_loss: 4.4153 - val_acc: 0.2580\n",
      "Epoch 85/100\n",
      "50000/50000 [==============================] - 3s 57us/step - loss: 0.6333 - acc: 0.7722 - val_loss: 4.6958 - val_acc: 0.2651\n",
      "Epoch 86/100\n",
      "50000/50000 [==============================] - 3s 54us/step - loss: 0.6633 - acc: 0.7606 - val_loss: 4.4811 - val_acc: 0.2589\n",
      "Epoch 87/100\n",
      "50000/50000 [==============================] - 3s 54us/step - loss: 0.6426 - acc: 0.7686 - val_loss: 4.5559 - val_acc: 0.2548\n",
      "Epoch 88/100\n",
      "50000/50000 [==============================] - 3s 56us/step - loss: 0.7195 - acc: 0.7475 - val_loss: 4.2924 - val_acc: 0.2630\n",
      "Epoch 89/100\n",
      "50000/50000 [==============================] - 3s 55us/step - loss: 0.6121 - acc: 0.7819 - val_loss: 4.5754 - val_acc: 0.2618\n",
      "Epoch 90/100\n",
      "50000/50000 [==============================] - 3s 54us/step - loss: 0.6415 - acc: 0.7729 - val_loss: 4.4007 - val_acc: 0.2601s - loss: 0.6\n",
      "Epoch 91/100\n",
      "50000/50000 [==============================] - 3s 56us/step - loss: 0.5966 - acc: 0.7861 - val_loss: 4.6278 - val_acc: 0.2604\n",
      "Epoch 92/100\n",
      "50000/50000 [==============================] - 3s 57us/step - loss: 0.6137 - acc: 0.7802 - val_loss: 4.4809 - val_acc: 0.2622\n",
      "Epoch 93/100\n",
      "50000/50000 [==============================] - 3s 54us/step - loss: 0.6850 - acc: 0.7543 - val_loss: 4.6035 - val_acc: 0.2528\n",
      "Epoch 94/100\n",
      "50000/50000 [==============================] - 3s 56us/step - loss: 0.5992 - acc: 0.7855 - val_loss: 4.7444 - val_acc: 0.2511\n",
      "Epoch 95/100\n",
      "50000/50000 [==============================] - 3s 54us/step - loss: 0.5979 - acc: 0.7868 - val_loss: 4.4806 - val_acc: 0.2491\n",
      "Epoch 96/100\n",
      "50000/50000 [==============================] - 3s 54us/step - loss: 0.5798 - acc: 0.7919 - val_loss: 4.9225 - val_acc: 0.2551\n",
      "Epoch 97/100\n",
      "50000/50000 [==============================] - 3s 54us/step - loss: 0.5542 - acc: 0.8046 - val_loss: 4.8220 - val_acc: 0.2559\n",
      "Epoch 98/100\n",
      "50000/50000 [==============================] - 3s 54us/step - loss: 0.5985 - acc: 0.7881 - val_loss: 4.7345 - val_acc: 0.2544\n",
      "Epoch 99/100\n",
      "50000/50000 [==============================] - 3s 54us/step - loss: 0.6002 - acc: 0.7878 - val_loss: 4.5707 - val_acc: 0.2587\n",
      "Epoch 100/100\n",
      "50000/50000 [==============================] - 3s 53us/step - loss: 0.6411 - acc: 0.7726 - val_loss: 4.8256 - val_acc: 0.2594\n"
     ]
    },
    {
     "data": {
      "text/plain": [
       "<keras.callbacks.History at 0x22819ea0f28>"
      ]
     },
     "execution_count": 10,
     "metadata": {},
     "output_type": "execute_result"
    }
   ],
   "source": [
    "model.fit(x_train, y_train, \n",
    "          epochs=EPOCHS, \n",
    "          batch_size=BATCH_SIZE, \n",
    "          validation_data=(x_test, y_test), \n",
    "          shuffle=True)"
   ]
  },
  {
   "cell_type": "code",
   "execution_count": 11,
   "metadata": {},
   "outputs": [
    {
     "data": {
      "text/plain": [
       "<Figure size 640x480 with 1 Axes>"
      ]
     },
     "metadata": {},
     "output_type": "display_data"
    },
    {
     "data": {
      "text/plain": [
       "<Figure size 640x480 with 1 Axes>"
      ]
     },
     "metadata": {},
     "output_type": "display_data"
    }
   ],
   "source": [
    "import matplotlib.pyplot as plt\n",
    "\n",
    "\n",
    "train_loss = model.history.history[\"loss\"]\n",
    "valid_loss = model.history.history[\"val_loss\"]\n",
    "\n",
    "train_acc = model.history.history[\"acc\"]\n",
    "valid_acc = model.history.history[\"val_acc\"]\n",
    "\n",
    "plt.plot(range(len(train_loss)), train_loss, label=\"train loss\")\n",
    "plt.plot(range(len(valid_loss)), valid_loss, label=\"valid loss\")\n",
    "plt.legend()\n",
    "plt.title(\"Loss\")\n",
    "plt.show()\n",
    "\n",
    "plt.plot(range(len(train_acc)), train_acc, label=\"train accuracy\")\n",
    "plt.plot(range(len(valid_acc)), valid_acc, label=\"valid accuracy\")\n",
    "plt.legend()\n",
    "plt.title(\"Accuracy\")\n",
    "plt.show()"
   ]
  },
  {
   "cell_type": "markdown",
   "metadata": {},
   "source": [
    "全失敗"
   ]
  }
 ],
 "metadata": {
  "kernelspec": {
   "display_name": "Python 3",
   "language": "python",
   "name": "python3"
  },
  "language_info": {
   "codemirror_mode": {
    "name": "ipython",
    "version": 3
   },
   "file_extension": ".py",
   "mimetype": "text/x-python",
   "name": "python",
   "nbconvert_exporter": "python",
   "pygments_lexer": "ipython3",
   "version": "3.7.3"
  }
 },
 "nbformat": 4,
 "nbformat_minor": 2
}

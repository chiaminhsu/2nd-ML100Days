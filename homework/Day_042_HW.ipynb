{
 "cells": [
  {
   "cell_type": "markdown",
   "metadata": {},
   "source": [
    "## [作業重點]\n",
    "目前你應該已經要很清楚資料集中，資料的型態是什麼樣子囉！包含特徵 (features) 與標籤 (labels)。因此要記得未來不管什麼專案，必須要把資料清理成相同的格式，才能送進模型訓練。\n",
    "今天的作業開始踏入決策樹這個非常重要的模型，請務必確保你理解模型中每個超參數的意思，並試著調整看看，對最終預測結果的影響為何"
   ]
  },
  {
   "cell_type": "markdown",
   "metadata": {},
   "source": [
    "## 作業\n",
    "\n",
    "1. 試著調整 DecisionTreeClassifier(...) 中的參數，並觀察是否會改變結果？\n",
    "2. 改用其他資料集 (boston, wine)，並與回歸模型的結果進行比較"
   ]
  },
  {
   "cell_type": "code",
   "execution_count": 4,
   "metadata": {
    "collapsed": true
   },
   "outputs": [],
   "source": [
    "from sklearn import datasets, metrics\n",
    "\n",
    "# 如果是分類問題，請使用 DecisionTreeClassifier，若為回歸問題，請使用 DecisionTreeRegressor\n",
    "from sklearn.tree import DecisionTreeClassifier, DecisionTreeRegressor\n",
    "from sklearn.model_selection import train_test_split"
   ]
  },
  {
   "cell_type": "code",
   "execution_count": 164,
   "metadata": {
    "collapsed": true
   },
   "outputs": [],
   "source": [
    "?DecisionTreeRegressor"
   ]
  },
  {
   "cell_type": "code",
   "execution_count": 124,
   "metadata": {
    "collapsed": true
   },
   "outputs": [],
   "source": [
    "import numpy as np"
   ]
  },
  {
   "cell_type": "code",
   "execution_count": 146,
   "metadata": {
    "collapsed": true
   },
   "outputs": [],
   "source": [
    "def DT_clf(name, dataset, criterion='gini', splitter='best', max_depth=None, min_samples_split=2, min_samples_leaf=1, min_weight_fraction_leaf=0.0, max_features=None, max_leaf_nodes=None):   \n",
    "    x_train, x_test, y_train, y_test = train_test_split(dataset.data, dataset.target, test_size=0.25, random_state=4)\n",
    "    clf = DecisionTreeClassifier(criterion=criterion, \n",
    "                                 splitter=splitter, \n",
    "                                 max_depth=max_depth, min_samples_split=min_samples_split, \n",
    "                                 min_samples_leaf=min_samples_split, \n",
    "                                 min_weight_fraction_leaf=min_weight_fraction_leaf, \n",
    "                                 max_features=max_features, \n",
    "                                 max_leaf_nodes=max_leaf_nodes)\n",
    "    clf.fit(x_train, y_train)\n",
    "    y_pred = clf.predict(x_test)\n",
    "    acc = metrics.accuracy_score(y_test, y_pred)\n",
    "    #print(name)\n",
    "    #print(\"Acuuracy: \", acc)\n",
    "    #print(dataset['feature_names'])\n",
    "    np.set_printoptions(edgeitems=30, linewidth=100000, \n",
    "                        formatter=dict(float=lambda x: \"%.3g\" % x))    \n",
    "    #print(\"Feature importance\", clf.feature_importances_)\n",
    "    print(acc, clf.feature_importances_)"
   ]
  },
  {
   "cell_type": "code",
   "execution_count": 159,
   "metadata": {
    "collapsed": true
   },
   "outputs": [],
   "source": [
    "def DT_reg(name, dataset, criterion='mse', splitter='best', max_depth=None, min_samples_split=2, min_samples_leaf=1, min_weight_fraction_leaf=0.0, max_features=None, max_leaf_nodes=None):   \n",
    "    x_train, x_test, y_train, y_test = train_test_split(dataset.data, dataset.target, test_size=0.25, random_state=4)\n",
    "    regr = DecisionTreeRegressor(criterion=criterion, \n",
    "                                splitter=splitter, \n",
    "                                max_depth=max_depth, min_samples_split=min_samples_split, \n",
    "                                min_samples_leaf=1, min_weight_fraction_leaf=min_weight_fraction_leaf, \n",
    "                                max_features=max_features,  \n",
    "                                max_leaf_nodes=max_leaf_nodes)\n",
    "    regr.fit(x_train, y_train)\n",
    "    y_pred = regr.predict(x_test)\n",
    "    #print('name')\n",
    "    np.set_printoptions(edgeitems=30, linewidth=100000, \n",
    "                        formatter=dict(float=lambda x: \"%.3g\" % x))     \n",
    "    \n",
    "    print(\"%.2f\" % metrics.mean_squared_error(y_test, y_pred))"
   ]
  },
  {
   "cell_type": "code",
   "execution_count": 108,
   "metadata": {
    "collapsed": true
   },
   "outputs": [],
   "source": [
    "iris = datasets.load_iris()\n",
    "boston = datasets.load_boston()\n",
    "wine = datasets.load_wine()"
   ]
  },
  {
   "cell_type": "code",
   "execution_count": 119,
   "metadata": {},
   "outputs": [],
   "source": [
    "def view_dataset(name, dataset):\n",
    "    print(name)\n",
    "    print(dataset.keys())\n",
    "    print('data', dataset['data'].shape)\n",
    "    print('target', dataset['target'].shape)\n",
    "    try:\n",
    "        print('target_names', dataset['target_names'])\n",
    "    except:\n",
    "        pass\n",
    "    try:\n",
    "        print('feature_names', dataset['feature_names'])\n",
    "    except:\n",
    "        pass\n",
    "    #print('description', dataset['DESCR'])"
   ]
  },
  {
   "cell_type": "code",
   "execution_count": 110,
   "metadata": {},
   "outputs": [
    {
     "name": "stdout",
     "output_type": "stream",
     "text": [
      "iris\n",
      "dict_keys(['data', 'target', 'target_names', 'DESCR', 'feature_names', 'filename'])\n",
      "data (150, 4)\n",
      "target (150,)\n",
      "target_names ['setosa' 'versicolor' 'virginica']\n",
      "feature_names ['sepal length (cm)', 'sepal width (cm)', 'petal length (cm)', 'petal width (cm)']\n"
     ]
    }
   ],
   "source": [
    "view_dataset('iris', iris)"
   ]
  },
  {
   "cell_type": "code",
   "execution_count": 111,
   "metadata": {},
   "outputs": [
    {
     "name": "stdout",
     "output_type": "stream",
     "text": [
      "wine\n",
      "dict_keys(['data', 'target', 'target_names', 'DESCR', 'feature_names'])\n",
      "data (178, 13)\n",
      "target (178,)\n",
      "target_names ['class_0' 'class_1' 'class_2']\n",
      "feature_names ['alcohol', 'malic_acid', 'ash', 'alcalinity_of_ash', 'magnesium', 'total_phenols', 'flavanoids', 'nonflavanoid_phenols', 'proanthocyanins', 'color_intensity', 'hue', 'od280/od315_of_diluted_wines', 'proline']\n"
     ]
    }
   ],
   "source": [
    "view_dataset('wine', wine)"
   ]
  },
  {
   "cell_type": "code",
   "execution_count": 112,
   "metadata": {},
   "outputs": [
    {
     "name": "stdout",
     "output_type": "stream",
     "text": [
      "boston\n",
      "dict_keys(['data', 'target', 'feature_names', 'DESCR', 'filename'])\n",
      "data (506, 13)\n",
      "target (506,)\n",
      "feature_names ['CRIM' 'ZN' 'INDUS' 'CHAS' 'NOX' 'RM' 'AGE' 'DIS' 'RAD' 'TAX' 'PTRATIO'\n",
      " 'B' 'LSTAT']\n"
     ]
    }
   ],
   "source": [
    "view_dataset('boston', boston)"
   ]
  },
  {
   "cell_type": "code",
   "execution_count": 127,
   "metadata": {},
   "outputs": [
    {
     "name": "stdout",
     "output_type": "stream",
     "text": [
      "iris\n",
      "Acuuracy:  0.973684210526\n",
      "['sepal length (cm)', 'sepal width (cm)', 'petal length (cm)', 'petal width (cm)']\n",
      "Feature importance [0.0134 0 0.554 0.433]\n"
     ]
    }
   ],
   "source": [
    "DT_clf('iris', iris)"
   ]
  },
  {
   "cell_type": "code",
   "execution_count": 134,
   "metadata": {},
   "outputs": [
    {
     "name": "stdout",
     "output_type": "stream",
     "text": [
      "iris\n",
      "Acuuracy:  0.973684210526\n",
      "['sepal length (cm)', 'sepal width (cm)', 'petal length (cm)', 'petal width (cm)']\n",
      "Feature importance [0 0.00957 0.0319 0.959]\n"
     ]
    }
   ],
   "source": [
    "DT_reg('iris', iris)"
   ]
  },
  {
   "cell_type": "code",
   "execution_count": 138,
   "metadata": {},
   "outputs": [
    {
     "name": "stdout",
     "output_type": "stream",
     "text": [
      "iris\n",
      "Acuuracy:  1.0\n",
      "['sepal length (cm)', 'sepal width (cm)', 'petal length (cm)', 'petal width (cm)']\n",
      "Feature importance [0.0282 0 0.078 0.894]\n"
     ]
    }
   ],
   "source": [
    "DT_clf('iris', iris, criterion='entropy')"
   ]
  },
  {
   "cell_type": "code",
   "execution_count": 148,
   "metadata": {},
   "outputs": [
    {
     "name": "stdout",
     "output_type": "stream",
     "text": [
      "0.684210526316 [0 0 0 1]\n",
      "0.973684210526 [0 0 0 1]\n",
      "0.973684210526 [0 0 0.558 0.442]\n",
      "0.973684210526 [0.0205 0 0.547 0.433]\n",
      "0.973684210526 [0.0205 0 0.0627 0.917]\n",
      "0.973684210526 [0.0134 0.00705 0.547 0.433]\n",
      "0.973684210526 [0.0205 0 0.547 0.433]\n",
      "0.973684210526 [0.0134 0.00705 0.547 0.433]\n",
      "0.973684210526 [0.0205 0 0.0627 0.917]\n"
     ]
    }
   ],
   "source": [
    "for i in range(1,10):\n",
    "    DT_clf('iris', iris, max_depth=i)"
   ]
  },
  {
   "cell_type": "code",
   "execution_count": 150,
   "metadata": {},
   "outputs": [
    {
     "name": "stdout",
     "output_type": "stream",
     "text": [
      "0.684210526316 [0 0 0 1]\n",
      "0.973684210526 [0 0 0 1]\n",
      "0.973684210526 [0 0 0.671 0.329]\n",
      "0.973684210526 [0.0282 0.00733 0.647 0.317]\n",
      "0.973684210526 [0.0282 0.00733 0.078 0.886]\n",
      "0.973684210526 [0.0355 0 0.078 0.886]\n",
      "0.973684210526 [0.0355 0 0.647 0.317]\n",
      "0.973684210526 [0.0282 0.00733 0.647 0.317]\n",
      "0.973684210526 [0.0282 0.00733 0.078 0.886]\n"
     ]
    }
   ],
   "source": [
    "for i in range(1,10):\n",
    "    DT_clf('iris', iris, criterion='entropy', max_depth=i)"
   ]
  },
  {
   "cell_type": "code",
   "execution_count": 149,
   "metadata": {},
   "outputs": [
    {
     "name": "stdout",
     "output_type": "stream",
     "text": [
      "0.866666666667 [0.0138 0.0311 0.007 0 0.0446 0 0.0825 0 0 0.341 0 0.0868 0.393]\n"
     ]
    }
   ],
   "source": [
    "DT_clf('wine', wine)"
   ]
  },
  {
   "cell_type": "code",
   "execution_count": 151,
   "metadata": {},
   "outputs": [
    {
     "name": "stdout",
     "output_type": "stream",
     "text": [
      "0.644444444444 [0 0 0 0 0 0 0 0 0 0 0 0 1]\n",
      "0.888888888889 [0 0 0 0 0 0.101 0 0 0 0.417 0 0 0.481]\n",
      "0.911111111111 [0 0.00733 0 0 0 0 0.132 0 0 0.404 0 0.0454 0.412]\n",
      "0.888888888889 [0.0142 0 0 0 0.046 0 0.0852 0 0.00723 0.352 0 0.0896 0.406]\n",
      "0.888888888889 [0.0138 0.0311 0 0 0 0.0505 0.0825 0 0 0.386 0 0.0434 0.393]\n",
      "0.866666666667 [0.0138 0 0 0 0.0446 0 0.133 0 0 0.372 0 0.0434 0.393]\n",
      "0.888888888889 [0.0138 0.0311 0 0 0.0446 0.0825 0.0435 0 0 0.348 0 0.0434 0.393]\n",
      "0.866666666667 [0.0138 0 0 0 0.0446 0.0825 0 0 0 0.372 0.007 0.0868 0.393]\n",
      "0.888888888889 [0.0138 0.0311 0 0 0.0446 0 0 0 0 0.348 0 0.169 0.393]\n"
     ]
    }
   ],
   "source": [
    "for i in range(1,10):\n",
    "    DT_clf('wine', wine, max_depth=i)"
   ]
  },
  {
   "cell_type": "code",
   "execution_count": 152,
   "metadata": {},
   "outputs": [
    {
     "name": "stdout",
     "output_type": "stream",
     "text": [
      "0.533333333333 [0 0 0 0 0 0 1 0 0 0 0 0 0]\n",
      "0.955555555556 [0 0 0 0 0 0 0.465 0 0 0.159 0 0 0.376]\n",
      "0.955555555556 [0 0 0 0 0.0787 0 0.42 0 0 0.144 0 0 0.357]\n",
      "0.955555555556 [0 0 0 0 0 0 0.424 0 0 0.221 0 0 0.355]\n",
      "0.977777777778 [0.0181 0 0 0 0 0 0.418 0.00609 0 0.221 0 0 0.337]\n",
      "0.933333333333 [0 0 0 0 0.0783 0 0.418 0 0 0.143 0 0.00609 0.355]\n",
      "0.933333333333 [0 0.0181 0 0.00609 0.0783 0 0.418 0 0 0.143 0 0 0.337]\n",
      "0.955555555556 [0 0.0181 0 0 0.0783 0 0.418 0 0.00609 0.143 0 0 0.337]\n",
      "0.955555555556 [0 0 0 0.0181 0.0783 0.00609 0.418 0 0 0.143 0 0 0.337]\n"
     ]
    }
   ],
   "source": [
    "for i in range(1,10):\n",
    "    DT_clf('wine', wine, criterion='entropy', max_depth=i)"
   ]
  },
  {
   "cell_type": "code",
   "execution_count": 162,
   "metadata": {},
   "outputs": [
    {
     "name": "stdout",
     "output_type": "stream",
     "text": [
      "54.29\n",
      "35.76\n",
      "34.27\n",
      "27.73\n",
      "25.13\n",
      "24.72\n",
      "26.87\n",
      "27.35\n",
      "27.73\n",
      "26.69\n",
      "28.06\n",
      "29.63\n",
      "25.73\n",
      "31.97\n",
      "25.37\n",
      "29.25\n",
      "26.66\n",
      "29.95\n",
      "26.06\n"
     ]
    }
   ],
   "source": [
    "for i in range(1,20):\n",
    "    DT_reg('boston', boston, max_depth=i)"
   ]
  },
  {
   "cell_type": "code",
   "execution_count": null,
   "metadata": {
    "collapsed": true
   },
   "outputs": [],
   "source": []
  }
 ],
 "metadata": {
  "kernelspec": {
   "display_name": "Python 3",
   "language": "python",
   "name": "python3"
  },
  "language_info": {
   "codemirror_mode": {
    "name": "ipython",
    "version": 3
   },
   "file_extension": ".py",
   "mimetype": "text/x-python",
   "name": "python",
   "nbconvert_exporter": "python",
   "pygments_lexer": "ipython3",
   "version": "3.6.3"
  }
 },
 "nbformat": 4,
 "nbformat_minor": 2
}

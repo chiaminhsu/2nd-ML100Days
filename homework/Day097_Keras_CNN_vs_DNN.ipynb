{
 "cells": [
  {
   "cell_type": "code",
   "execution_count": 1,
   "metadata": {},
   "outputs": [
    {
     "name": "stderr",
     "output_type": "stream",
     "text": [
      "Using TensorFlow backend.\n"
     ]
    }
   ],
   "source": [
    "import keras\n",
    "from keras.datasets import cifar10\n",
    "from keras.preprocessing.image import ImageDataGenerator\n",
    "from keras.models import Sequential\n",
    "from keras.layers import Dense, Dropout, Activation, Flatten\n",
    "from keras.layers import Conv2D, MaxPooling2D\n",
    "from keras.optimizers import RMSprop, Adam\n",
    "import os"
   ]
  },
  {
   "cell_type": "code",
   "execution_count": 2,
   "metadata": {},
   "outputs": [],
   "source": [
    "'https://stackoverflow.com/questions/35792278/how-to-find-number-of-parameters-of-a-keras-model'\n",
    "def size_model(model): # Compute number of params in a model (the actual number of floats)\n",
    "    import numpy as np\n",
    "    #return sum([np.prod(K.get_value(w).shape) for w in model.trainable_weights])\n",
    "    W = [K.get_value(w).shape for w in model.trainable_weights]\n",
    "    print(W)\n",
    "    total = sum([np.prod(w) for w in W])\n",
    "    return total"
   ]
  },
  {
   "cell_type": "code",
   "execution_count": 3,
   "metadata": {},
   "outputs": [
    {
     "name": "stdout",
     "output_type": "stream",
     "text": [
      "x_train shape: (50000, 32, 32, 3)\n",
      "50000 train samples\n",
      "10000 test samples\n"
     ]
    }
   ],
   "source": [
    "batch_size = 128 # batch 的大小，如果出現 OOM error，請降低這個值\n",
    "num_classes = 10 # 類別的數量，Cifar 10 共有 10 個類別\n",
    "epochs = 20 # 訓練的 epochs 數量\n",
    "\n",
    "# 讀取資料並檢視\n",
    "(x_train, y_train), (x_test, y_test) = cifar10.load_data()\n",
    "print('x_train shape:', x_train.shape)\n",
    "print(x_train.shape[0], 'train samples')\n",
    "print(x_test.shape[0], 'test samples')\n",
    "\n",
    "# 對 label 進行 one-hot encoding (y_trian 原本是純數字)\n",
    "y_train = keras.utils.to_categorical(y_train, num_classes)\n",
    "y_test = keras.utils.to_categorical(y_test, num_classes)"
   ]
  },
  {
   "cell_type": "markdown",
   "metadata": {},
   "source": [
    "## 首先我們使用一般的 DNN (MLP) 來訓練\n",
    "由於 DNN 只能輸入一維的資料，我們要先將影像進行攤平，若 (50000, 32, 32, 3) 的影像，攤平後會變成 (50000, 32*32*3) = (50000, 3072)"
   ]
  },
  {
   "cell_type": "code",
   "execution_count": 4,
   "metadata": {},
   "outputs": [
    {
     "name": "stdout",
     "output_type": "stream",
     "text": [
      "50000 train samples\n",
      "10000 test samples\n"
     ]
    }
   ],
   "source": [
    "# 將資料攤平成一維資料\n",
    "x_train = x_train.reshape(50000, 3072) \n",
    "x_test = x_test.reshape(10000, 3072)\n",
    "\n",
    "# 將資料變為 float32 並標準化\n",
    "x_train = x_train.astype('float32')\n",
    "x_test = x_test.astype('float32')\n",
    "x_train /= 255\n",
    "x_test /= 255\n",
    "print(x_train.shape[0], 'train samples')\n",
    "print(x_test.shape[0], 'test samples')"
   ]
  },
  {
   "cell_type": "code",
   "execution_count": 5,
   "metadata": {},
   "outputs": [
    {
     "name": "stdout",
     "output_type": "stream",
     "text": [
      "WARNING:tensorflow:From C:\\Users\\User\\Anaconda3\\lib\\site-packages\\tensorflow\\python\\framework\\op_def_library.py:263: colocate_with (from tensorflow.python.framework.ops) is deprecated and will be removed in a future version.\n",
      "Instructions for updating:\n",
      "Colocations handled automatically by placer.\n",
      "WARNING:tensorflow:From C:\\Users\\User\\Anaconda3\\lib\\site-packages\\keras\\backend\\tensorflow_backend.py:3445: calling dropout (from tensorflow.python.ops.nn_ops) with keep_prob is deprecated and will be removed in a future version.\n",
      "Instructions for updating:\n",
      "Please use `rate` instead of `keep_prob`. Rate should be set to `rate = 1 - keep_prob`.\n",
      "_________________________________________________________________\n",
      "Layer (type)                 Output Shape              Param #   \n",
      "=================================================================\n",
      "dense_1 (Dense)              (None, 512)               1573376   \n",
      "_________________________________________________________________\n",
      "dropout_1 (Dropout)          (None, 512)               0         \n",
      "_________________________________________________________________\n",
      "dense_2 (Dense)              (None, 512)               262656    \n",
      "_________________________________________________________________\n",
      "dropout_2 (Dropout)          (None, 512)               0         \n",
      "_________________________________________________________________\n",
      "dense_3 (Dense)              (None, 10)                5130      \n",
      "=================================================================\n",
      "Total params: 1,841,162\n",
      "Trainable params: 1,841,162\n",
      "Non-trainable params: 0\n",
      "_________________________________________________________________\n"
     ]
    }
   ],
   "source": [
    "model_dnn = Sequential()\n",
    "model_dnn.add(Dense(512, activation='relu', input_shape=(3072,)))\n",
    "model_dnn.add(Dropout(0.2))\n",
    "model_dnn.add(Dense(512, activation='relu'))\n",
    "model_dnn.add(Dropout(0.2))\n",
    "model_dnn.add(Dense(num_classes, activation='softmax'))\n",
    "\n",
    "model_dnn.summary()"
   ]
  },
  {
   "cell_type": "code",
   "execution_count": 6,
   "metadata": {},
   "outputs": [
    {
     "name": "stdout",
     "output_type": "stream",
     "text": [
      "WARNING:tensorflow:From C:\\Users\\User\\Anaconda3\\lib\\site-packages\\tensorflow\\python\\ops\\math_ops.py:3066: to_int32 (from tensorflow.python.ops.math_ops) is deprecated and will be removed in a future version.\n",
      "Instructions for updating:\n",
      "Use tf.cast instead.\n",
      "Train on 50000 samples, validate on 10000 samples\n",
      "Epoch 1/20\n",
      "50000/50000 [==============================] - 4s 78us/step - loss: 2.1401 - acc: 0.2524 - val_loss: 2.0492 - val_acc: 0.2851\n",
      "Epoch 2/20\n",
      "50000/50000 [==============================] - 2s 46us/step - loss: 1.8566 - acc: 0.3313 - val_loss: 1.7621 - val_acc: 0.3735\n",
      "Epoch 3/20\n",
      "50000/50000 [==============================] - 2s 46us/step - loss: 1.7765 - acc: 0.3624 - val_loss: 1.7261 - val_acc: 0.3803\n",
      "Epoch 4/20\n",
      "50000/50000 [==============================] - 2s 47us/step - loss: 1.7253 - acc: 0.3819 - val_loss: 1.6604 - val_acc: 0.4165\n",
      "Epoch 5/20\n",
      "50000/50000 [==============================] - 2s 48us/step - loss: 1.6973 - acc: 0.3896 - val_loss: 1.6130 - val_acc: 0.4304\n",
      "Epoch 6/20\n",
      "50000/50000 [==============================] - 2s 48us/step - loss: 1.6665 - acc: 0.4009 - val_loss: 1.6686 - val_acc: 0.4047\n",
      "Epoch 7/20\n",
      "50000/50000 [==============================] - 2s 45us/step - loss: 1.6538 - acc: 0.4075 - val_loss: 1.6312 - val_acc: 0.4263\n",
      "Epoch 8/20\n",
      "50000/50000 [==============================] - 2s 46us/step - loss: 1.6283 - acc: 0.4164 - val_loss: 1.5623 - val_acc: 0.4383\n",
      "Epoch 9/20\n",
      "50000/50000 [==============================] - 3s 50us/step - loss: 1.6198 - acc: 0.4196 - val_loss: 1.5829 - val_acc: 0.4341\n",
      "Epoch 10/20\n",
      "50000/50000 [==============================] - 3s 65us/step - loss: 1.6095 - acc: 0.4255 - val_loss: 1.5825 - val_acc: 0.4388\n",
      "Epoch 11/20\n",
      "50000/50000 [==============================] - 2s 48us/step - loss: 1.5957 - acc: 0.4285 - val_loss: 1.6142 - val_acc: 0.4224\n",
      "Epoch 12/20\n",
      "50000/50000 [==============================] - 2s 46us/step - loss: 1.5841 - acc: 0.4355 - val_loss: 1.5316 - val_acc: 0.4643\n",
      "Epoch 13/20\n",
      "50000/50000 [==============================] - 2s 47us/step - loss: 1.5715 - acc: 0.4382 - val_loss: 1.5295 - val_acc: 0.4539\n",
      "Epoch 14/20\n",
      "50000/50000 [==============================] - 2s 46us/step - loss: 1.5690 - acc: 0.4389 - val_loss: 1.5492 - val_acc: 0.4590\n",
      "Epoch 15/20\n",
      "50000/50000 [==============================] - 3s 55us/step - loss: 1.5621 - acc: 0.4429 - val_loss: 1.5352 - val_acc: 0.4587\n",
      "Epoch 16/20\n",
      "50000/50000 [==============================] - 2s 48us/step - loss: 1.5530 - acc: 0.4442 - val_loss: 1.5161 - val_acc: 0.4658\n",
      "Epoch 17/20\n",
      "50000/50000 [==============================] - 2s 47us/step - loss: 1.5495 - acc: 0.4465 - val_loss: 1.5288 - val_acc: 0.4685\n",
      "Epoch 18/20\n",
      "50000/50000 [==============================] - 2s 47us/step - loss: 1.5425 - acc: 0.4476 - val_loss: 1.5309 - val_acc: 0.4501\n",
      "Epoch 19/20\n",
      "50000/50000 [==============================] - 2s 47us/step - loss: 1.5332 - acc: 0.4532 - val_loss: 1.5270 - val_acc: 0.4607\n",
      "Epoch 20/20\n",
      "50000/50000 [==============================] - 2s 45us/step - loss: 1.5296 - acc: 0.4549 - val_loss: 1.5487 - val_acc: 0.4501\n",
      "Test loss: 1.548732175064087\n",
      "Test accuracy: 0.4501\n"
     ]
    }
   ],
   "source": [
    "model_dnn.compile(loss='categorical_crossentropy',\n",
    "              optimizer=RMSprop(),\n",
    "              metrics=['accuracy'])\n",
    "\n",
    "history = model_dnn.fit(x_train, y_train,\n",
    "                    batch_size=batch_size,\n",
    "                    epochs=epochs,\n",
    "                    verbose=1,\n",
    "                    validation_data=(x_test, y_test))\n",
    "score = model_dnn.evaluate(x_test, y_test, verbose=0)\n",
    "print('Test loss:', score[0])\n",
    "print('Test accuracy:', score[1])"
   ]
  },
  {
   "cell_type": "markdown",
   "metadata": {},
   "source": [
    "## 接下來我們使用 CNN 來訓練神經網路\n",
    "CNN 的原理非常適合處理影像類的資料，就讓我們來看看，同樣的訓練條件，CNN 是否顯著優於 DNN 呢?"
   ]
  },
  {
   "cell_type": "code",
   "execution_count": 7,
   "metadata": {},
   "outputs": [
    {
     "name": "stdout",
     "output_type": "stream",
     "text": [
      "x_train shape: (50000, 32, 32, 3)\n",
      "50000 train samples\n",
      "10000 test samples\n"
     ]
    }
   ],
   "source": [
    "(x_train, y_train), (x_test, y_test) = cifar10.load_data()\n",
    "print('x_train shape:', x_train.shape)\n",
    "print(x_train.shape[0], 'train samples')\n",
    "print(x_test.shape[0], 'test samples')\n",
    "x_train = x_train.astype('float32')\n",
    "x_test = x_test.astype('float32')\n",
    "x_train /= 255\n",
    "x_test /= 255\n",
    "\n",
    "# Convert class vectors to binary class matrices.\n",
    "y_train = keras.utils.to_categorical(y_train, num_classes)\n",
    "y_test = keras.utils.to_categorical(y_test, num_classes)"
   ]
  },
  {
   "cell_type": "code",
   "execution_count": 8,
   "metadata": {},
   "outputs": [
    {
     "name": "stdout",
     "output_type": "stream",
     "text": [
      "_________________________________________________________________\n",
      "Layer (type)                 Output Shape              Param #   \n",
      "=================================================================\n",
      "conv2d_1 (Conv2D)            (None, 32, 32, 32)        896       \n",
      "_________________________________________________________________\n",
      "activation_1 (Activation)    (None, 32, 32, 32)        0         \n",
      "_________________________________________________________________\n",
      "conv2d_2 (Conv2D)            (None, 30, 30, 32)        9248      \n",
      "_________________________________________________________________\n",
      "activation_2 (Activation)    (None, 30, 30, 32)        0         \n",
      "_________________________________________________________________\n",
      "max_pooling2d_1 (MaxPooling2 (None, 15, 15, 32)        0         \n",
      "_________________________________________________________________\n",
      "dropout_3 (Dropout)          (None, 15, 15, 32)        0         \n",
      "_________________________________________________________________\n",
      "conv2d_3 (Conv2D)            (None, 15, 15, 64)        18496     \n",
      "_________________________________________________________________\n",
      "activation_3 (Activation)    (None, 15, 15, 64)        0         \n",
      "_________________________________________________________________\n",
      "conv2d_4 (Conv2D)            (None, 13, 13, 64)        36928     \n",
      "_________________________________________________________________\n",
      "activation_4 (Activation)    (None, 13, 13, 64)        0         \n",
      "_________________________________________________________________\n",
      "max_pooling2d_2 (MaxPooling2 (None, 6, 6, 64)          0         \n",
      "_________________________________________________________________\n",
      "dropout_4 (Dropout)          (None, 6, 6, 64)          0         \n",
      "_________________________________________________________________\n",
      "flatten_1 (Flatten)          (None, 2304)              0         \n",
      "_________________________________________________________________\n",
      "dense_4 (Dense)              (None, 512)               1180160   \n",
      "_________________________________________________________________\n",
      "activation_5 (Activation)    (None, 512)               0         \n",
      "_________________________________________________________________\n",
      "dropout_5 (Dropout)          (None, 512)               0         \n",
      "_________________________________________________________________\n",
      "dense_5 (Dense)              (None, 10)                5130      \n",
      "_________________________________________________________________\n",
      "activation_6 (Activation)    (None, 10)                0         \n",
      "=================================================================\n",
      "Total params: 1,250,858\n",
      "Trainable params: 1,250,858\n",
      "Non-trainable params: 0\n",
      "_________________________________________________________________\n",
      "Train on 50000 samples, validate on 10000 samples\n",
      "Epoch 1/20\n",
      "50000/50000 [==============================] - 8s 164us/step - loss: 1.7350 - acc: 0.3739 - val_loss: 1.4974 - val_acc: 0.4814\n",
      "Epoch 2/20\n",
      "50000/50000 [==============================] - 6s 117us/step - loss: 1.3091 - acc: 0.5368 - val_loss: 1.0856 - val_acc: 0.6131\n",
      "Epoch 3/20\n",
      "50000/50000 [==============================] - 6s 119us/step - loss: 1.1050 - acc: 0.6108 - val_loss: 1.0799 - val_acc: 0.6201\n",
      "Epoch 4/20\n",
      "50000/50000 [==============================] - 6s 130us/step - loss: 0.9751 - acc: 0.6562 - val_loss: 0.8837 - val_acc: 0.6916\n",
      "Epoch 5/20\n",
      "50000/50000 [==============================] - 6s 118us/step - loss: 0.8831 - acc: 0.6920 - val_loss: 0.8476 - val_acc: 0.7054\n",
      "Epoch 6/20\n",
      "50000/50000 [==============================] - 6s 117us/step - loss: 0.8149 - acc: 0.7200 - val_loss: 0.8091 - val_acc: 0.7241\n",
      "Epoch 7/20\n",
      "50000/50000 [==============================] - 6s 118us/step - loss: 0.7619 - acc: 0.7369 - val_loss: 0.7133 - val_acc: 0.7511\n",
      "Epoch 8/20\n",
      "50000/50000 [==============================] - 6s 117us/step - loss: 0.7247 - acc: 0.7497 - val_loss: 0.7186 - val_acc: 0.7554\n",
      "Epoch 9/20\n",
      "50000/50000 [==============================] - 6s 118us/step - loss: 0.6876 - acc: 0.7609 - val_loss: 0.7528 - val_acc: 0.7489\n",
      "Epoch 10/20\n",
      "50000/50000 [==============================] - 6s 118us/step - loss: 0.6700 - acc: 0.7716 - val_loss: 0.7071 - val_acc: 0.7689\n",
      "Epoch 11/20\n",
      "50000/50000 [==============================] - 6s 119us/step - loss: 0.6540 - acc: 0.7768 - val_loss: 0.6924 - val_acc: 0.7653\n",
      "Epoch 12/20\n",
      "50000/50000 [==============================] - 6s 117us/step - loss: 0.6387 - acc: 0.7806 - val_loss: 0.7619 - val_acc: 0.7715\n",
      "Epoch 13/20\n",
      "50000/50000 [==============================] - 6s 117us/step - loss: 0.6265 - acc: 0.7884 - val_loss: 0.7595 - val_acc: 0.7562\n",
      "Epoch 14/20\n",
      "50000/50000 [==============================] - 6s 117us/step - loss: 0.6256 - acc: 0.7895 - val_loss: 0.7792 - val_acc: 0.7447\n",
      "Epoch 15/20\n",
      "50000/50000 [==============================] - 6s 118us/step - loss: 0.6173 - acc: 0.7925 - val_loss: 0.6394 - val_acc: 0.7860\n",
      "Epoch 16/20\n",
      "50000/50000 [==============================] - 6s 118us/step - loss: 0.6142 - acc: 0.7964 - val_loss: 0.7850 - val_acc: 0.7442\n",
      "Epoch 17/20\n",
      "50000/50000 [==============================] - 6s 116us/step - loss: 0.6171 - acc: 0.7946 - val_loss: 0.7061 - val_acc: 0.7807\n",
      "Epoch 18/20\n",
      "50000/50000 [==============================] - 6s 117us/step - loss: 0.6093 - acc: 0.7962 - val_loss: 0.7086 - val_acc: 0.7728\n",
      "Epoch 19/20\n",
      "50000/50000 [==============================] - 6s 117us/step - loss: 0.6070 - acc: 0.7987 - val_loss: 0.6407 - val_acc: 0.7881\n",
      "Epoch 20/20\n",
      "50000/50000 [==============================] - 6s 117us/step - loss: 0.6079 - acc: 0.7996 - val_loss: 0.6884 - val_acc: 0.7679\n",
      "Test loss: 0.6883784538269043\n",
      "Test accuracy: 0.7679\n"
     ]
    }
   ],
   "source": [
    "model_cnn = Sequential()\n",
    "model_cnn.add(Conv2D(32, (3, 3), padding='same',\n",
    "                 input_shape=x_train.shape[1:]))\n",
    "model_cnn.add(Activation('relu'))\n",
    "model_cnn.add(Conv2D(32, (3, 3)))\n",
    "model_cnn.add(Activation('relu'))\n",
    "model_cnn.add(MaxPooling2D(pool_size=(2, 2)))\n",
    "model_cnn.add(Dropout(0.25))\n",
    "\n",
    "model_cnn.add(Conv2D(64, (3, 3), padding='same'))\n",
    "model_cnn.add(Activation('relu'))\n",
    "model_cnn.add(Conv2D(64, (3, 3)))\n",
    "model_cnn.add(Activation('relu'))\n",
    "model_cnn.add(MaxPooling2D(pool_size=(2, 2)))\n",
    "model_cnn.add(Dropout(0.25))\n",
    "\n",
    "model_cnn.add(Flatten())\n",
    "model_cnn.add(Dense(512))\n",
    "model_cnn.add(Activation('relu'))\n",
    "model_cnn.add(Dropout(0.5))\n",
    "model_cnn.add(Dense(num_classes))\n",
    "model_cnn.add(Activation('softmax'))\n",
    "model_cnn.summary()\n",
    "\n",
    "model_cnn.compile(loss='categorical_crossentropy',\n",
    "              optimizer=RMSprop(),\n",
    "              metrics=['accuracy'])\n",
    "\n",
    "history = model_cnn.fit(x_train, y_train,\n",
    "                    batch_size=batch_size,\n",
    "                    epochs=epochs,\n",
    "                    verbose=1,\n",
    "                    validation_data=(x_test, y_test))\n",
    "score = model_cnn.evaluate(x_test, y_test, verbose=0)\n",
    "print('Test loss:', score[0])\n",
    "print('Test accuracy:', score[1])"
   ]
  },
  {
   "cell_type": "markdown",
   "metadata": {},
   "source": [
    "## 同樣運算 10 個 epochs，但 CNN 在 test data 的準確率顯著優於 DNN!"
   ]
  },
  {
   "cell_type": "markdown",
   "metadata": {},
   "source": [
    "## 作業\n",
    "# 1. 請試著調整各個超參數，並說明那些超參數對於結果有明顯的影響?\n",
    "可調整參數, 至少有 batch_size, epoch, learning rate. \n",
    "\n",
    "調 epoch, accuracy 增加, DNN 上升 1.4%, CNN 上升 2% \n",
    "                   10 epochs            20 epochs\n",
    "DNN Test loss:     1.5602067405700684   1.548732175064087\n",
    "DNN Test accuracy: 0.4487               0.4501\n",
    "CNN Test loss:     0.7365292016983033   0.6883784538269043\n",
    "CNN Test accuracy: 0.7479               0.7679\n",
    "\n",
    "\n",
    "# 2. CNN 與 DNN 哪個模型的參數數量比較多? 造成參數的數量不同的原因在哪?\n",
    "DNN_Total params: 1,841,162\n",
    "DNN_Trainable params: 1,841,162\n",
    "CNN_Total params: 1,250,858\n",
    "CNN_Trainable params: 1,250,858\n",
    "由上可知, DNN 參數 1.8M 比 CNN 1.2M 多\n",
    "由於 dnn 是全 fully connected layer 建構, 每層需要維持 in_num x out_num 的大量參數, 和矩陣運算. 而 CNN 有參數共享可減少參數的優點說法. 但古典影像辨識法觀知, 古典影像辨識本身就是設計各種不同的 convolution filters 將影像轉為可區分之特徵. CNN 設計者只是了解影像辨識的特性, 將辨識所需的 convolution filters 交由神經網路學習. 符合特性的網路結構自然比較優越. "
   ]
  }
 ],
 "metadata": {
  "kernelspec": {
   "display_name": "Python 3",
   "language": "python",
   "name": "python3"
  },
  "language_info": {
   "codemirror_mode": {
    "name": "ipython",
    "version": 3
   },
   "file_extension": ".py",
   "mimetype": "text/x-python",
   "name": "python",
   "nbconvert_exporter": "python",
   "pygments_lexer": "ipython3",
   "version": "3.7.3"
  }
 },
 "nbformat": 4,
 "nbformat_minor": 2
}

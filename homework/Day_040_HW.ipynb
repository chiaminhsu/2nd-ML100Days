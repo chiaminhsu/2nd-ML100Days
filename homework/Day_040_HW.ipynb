{
 "cells": [
  {
   "cell_type": "markdown",
   "metadata": {},
   "source": [
    "## [作業重點]\n",
    "使用 Sklearn 中的 Lasso, Ridge 模型，來訓練各種資料集，務必了解送進去模型訓練的**資料型態**為何，也請了解模型中各項參數的意義。\n",
    "\n",
    "機器學習的模型非常多種，但要訓練的資料多半有固定的格式，確保你了解訓練資料的格式為何，這樣在應用新模型時，就能夠最快的上手開始訓練！"
   ]
  },
  {
   "cell_type": "markdown",
   "metadata": {},
   "source": [
    "## 練習時間\n",
    "試著使用 sklearn datasets 的其他資料集 (boston, ...)，來訓練自己的線性迴歸模型，並加上適當的正則話來觀察訓練情形。"
   ]
  },
  {
   "cell_type": "code",
   "execution_count": 26,
   "metadata": {
    "collapsed": true
   },
   "outputs": [],
   "source": [
    "import numpy as np\n",
    "import matplotlib.pyplot as plt\n",
    "from sklearn import datasets, linear_model\n",
    "from sklearn.model_selection import train_test_split\n",
    "from sklearn.metrics import mean_squared_error, r2_score"
   ]
  },
  {
   "cell_type": "code",
   "execution_count": 37,
   "metadata": {
    "collapsed": true
   },
   "outputs": [],
   "source": [
    "def LRG(name, x_train, x_test, y_train, y_test):\n",
    "    regr = linear_model.LinearRegression()\n",
    "    regr.fit(x_train, y_train)\n",
    "    y_pred = regr.predict(x_test)\n",
    "    mse = mean_squared_error(y_test, y_pred)\n",
    "    print(\"LinearRegression of %s, MSE = %.3f\" % (name, mse))\n",
    "    return mse"
   ]
  },
  {
   "cell_type": "code",
   "execution_count": 46,
   "metadata": {
    "collapsed": true
   },
   "outputs": [],
   "source": [
    "def Lasso(name, x_train, x_test, y_train, y_test, alpha=1.0):\n",
    "    lasso = linear_model.Lasso(alpha)\n",
    "    lasso.fit(x_train, y_train)\n",
    "    y_pred = lasso.predict(x_test)\n",
    "    mse = mean_squared_error(y_test, y_pred)\n",
    "    print(\"Lasso of %s, MSE = %.3f, alpha = %.6f\" % (name, mse, alpha))    \n",
    "    return mse"
   ]
  },
  {
   "cell_type": "code",
   "execution_count": 47,
   "metadata": {
    "collapsed": true
   },
   "outputs": [],
   "source": [
    "def Ridge(name, x_train, x_test, y_train, y_test, alpha=1.0):\n",
    "    ridge = linear_model.Ridge(alpha)\n",
    "    ridge.fit(x_train, y_train)\n",
    "    y_pred = ridge.predict(x_test)\n",
    "    mse = mean_squared_error(y_test, y_pred)\n",
    "    print(\"Ridge of %s, MSE = %.3f, alpha = %.6f\" % (name, mse, alpha))    \n",
    "    return mse"
   ]
  },
  {
   "cell_type": "code",
   "execution_count": 40,
   "metadata": {
    "collapsed": true
   },
   "outputs": [],
   "source": [
    "wine = datasets.load_wine()\n",
    "wine_x_train, wine_x_test, wine_y_train, wine_y_test = train_test_split(wine.data, wine.target, test_size=0.2, random_state=4)"
   ]
  },
  {
   "cell_type": "code",
   "execution_count": 48,
   "metadata": {},
   "outputs": [
    {
     "name": "stdout",
     "output_type": "stream",
     "text": [
      "LinearRegression of wine, MSE = 0.067\n",
      "Lasso of wine, MSE = 0.067, alpha = 0.000001\n",
      "Ridge of wine, MSE = 0.067, alpha = 0.000001\n",
      "Lasso of wine, MSE = 0.067, alpha = 0.000010\n",
      "Ridge of wine, MSE = 0.067, alpha = 0.000010\n",
      "Lasso of wine, MSE = 0.067, alpha = 0.000100\n",
      "Ridge of wine, MSE = 0.067, alpha = 0.000100\n",
      "Lasso of wine, MSE = 0.068, alpha = 0.001000\n",
      "Ridge of wine, MSE = 0.067, alpha = 0.001000\n",
      "Lasso of wine, MSE = 0.072, alpha = 0.010000\n",
      "Ridge of wine, MSE = 0.067, alpha = 0.010000\n",
      "Lasso of wine, MSE = 0.102, alpha = 0.100000\n",
      "Ridge of wine, MSE = 0.067, alpha = 0.100000\n",
      "Lasso of wine, MSE = 0.424, alpha = 1.000000\n",
      "Ridge of wine, MSE = 0.068, alpha = 1.000000\n",
      "Lasso of wine, MSE = 0.421, alpha = 10.000000\n",
      "Ridge of wine, MSE = 0.072, alpha = 10.000000\n",
      "Lasso of wine, MSE = 0.516, alpha = 100.000000\n",
      "Ridge of wine, MSE = 0.104, alpha = 100.000000\n",
      "Lasso of wine, MSE = 0.665, alpha = 1000.000000\n",
      "Ridge of wine, MSE = 0.234, alpha = 1000.000000\n",
      "Lasso of wine, MSE = 0.665, alpha = 10000.000000\n",
      "Ridge of wine, MSE = 0.384, alpha = 10000.000000\n",
      "Lasso of wine, MSE = 0.665, alpha = 100000.000000\n",
      "Ridge of wine, MSE = 0.419, alpha = 100000.000000\n"
     ]
    }
   ],
   "source": [
    "LRG('wine', wine_x_train, wine_x_test, wine_y_train, wine_y_test)\n",
    "for i in range(-6,6):\n",
    "    Lasso('wine', wine_x_train, wine_x_test, wine_y_train, wine_y_test, 10**i)\n",
    "    Ridge('wine', wine_x_train, wine_x_test, wine_y_train, wine_y_test, 10**i)"
   ]
  },
  {
   "cell_type": "code",
   "execution_count": 49,
   "metadata": {
    "collapsed": true
   },
   "outputs": [],
   "source": [
    "boston = datasets.load_wine()\n",
    "boston_x_train, boston_x_test, boston_y_train, boston_y_test = train_test_split(boston.data, boston.target, test_size=0.2, random_state=4)"
   ]
  },
  {
   "cell_type": "code",
   "execution_count": 50,
   "metadata": {},
   "outputs": [
    {
     "name": "stdout",
     "output_type": "stream",
     "text": [
      "LinearRegression of boston, MSE = 0.067\n",
      "Lasso of boston, MSE = 0.067, alpha = 0.000001\n",
      "Ridge of boston, MSE = 0.067, alpha = 0.000001\n",
      "Lasso of boston, MSE = 0.067, alpha = 0.000010\n",
      "Ridge of boston, MSE = 0.067, alpha = 0.000010\n",
      "Lasso of boston, MSE = 0.067, alpha = 0.000100\n",
      "Ridge of boston, MSE = 0.067, alpha = 0.000100\n",
      "Lasso of boston, MSE = 0.068, alpha = 0.001000\n",
      "Ridge of boston, MSE = 0.067, alpha = 0.001000\n",
      "Lasso of boston, MSE = 0.072, alpha = 0.010000\n",
      "Ridge of boston, MSE = 0.067, alpha = 0.010000\n",
      "Lasso of boston, MSE = 0.102, alpha = 0.100000\n",
      "Ridge of boston, MSE = 0.067, alpha = 0.100000\n",
      "Lasso of boston, MSE = 0.424, alpha = 1.000000\n",
      "Ridge of boston, MSE = 0.068, alpha = 1.000000\n",
      "Lasso of boston, MSE = 0.421, alpha = 10.000000\n",
      "Ridge of boston, MSE = 0.072, alpha = 10.000000\n",
      "Lasso of boston, MSE = 0.516, alpha = 100.000000\n",
      "Ridge of boston, MSE = 0.104, alpha = 100.000000\n",
      "Lasso of boston, MSE = 0.665, alpha = 1000.000000\n",
      "Ridge of boston, MSE = 0.234, alpha = 1000.000000\n",
      "Lasso of boston, MSE = 0.665, alpha = 10000.000000\n",
      "Ridge of boston, MSE = 0.384, alpha = 10000.000000\n",
      "Lasso of boston, MSE = 0.665, alpha = 100000.000000\n",
      "Ridge of boston, MSE = 0.419, alpha = 100000.000000\n"
     ]
    }
   ],
   "source": [
    "LRG('boston', boston_x_train, boston_x_test, boston_y_train, boston_y_test)\n",
    "for i in range(-6,6):\n",
    "    Lasso('boston', boston_x_train, boston_x_test, boston_y_train, boston_y_test, 10**i)\n",
    "    Ridge('boston', boston_x_train, boston_x_test, boston_y_train, boston_y_test, 10**i)"
   ]
  },
  {
   "cell_type": "code",
   "execution_count": null,
   "metadata": {
    "collapsed": true
   },
   "outputs": [],
   "source": []
  }
 ],
 "metadata": {
  "kernelspec": {
   "display_name": "Python 3",
   "language": "python",
   "name": "python3"
  },
  "language_info": {
   "codemirror_mode": {
    "name": "ipython",
    "version": 3
   },
   "file_extension": ".py",
   "mimetype": "text/x-python",
   "name": "python",
   "nbconvert_exporter": "python",
   "pygments_lexer": "ipython3",
   "version": "3.6.3"
  }
 },
 "nbformat": 4,
 "nbformat_minor": 2
}

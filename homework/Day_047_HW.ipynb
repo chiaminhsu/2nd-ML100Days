{
 "cells": [
  {
   "cell_type": "markdown",
   "metadata": {},
   "source": [
    "## [作業重點]\n",
    "了解如何使用 Sklearn 中的 hyper-parameter search 找出最佳的超參數"
   ]
  },
  {
   "cell_type": "markdown",
   "metadata": {},
   "source": [
    "### 作業\n",
    "請使用不同的資料集，並使用 hyper-parameter search 的方式，看能不能找出最佳的超參數組合"
   ]
  },
  {
   "cell_type": "code",
   "execution_count": 1,
   "metadata": {
    "collapsed": true
   },
   "outputs": [],
   "source": [
    "from sklearn import datasets, metrics\n",
    "from sklearn.model_selection import train_test_split, KFold, GridSearchCV\n",
    "from sklearn.ensemble import GradientBoostingRegressor\n",
    "# future\n",
    "#from sklearn.ensemble import BaggingClassifier\n",
    "#from sklearn.ensemble import RandomForestClassifier\n",
    "#from sklearn.ensemble import ExtraTreesClassifier"
   ]
  },
  {
   "cell_type": "code",
   "execution_count": 2,
   "metadata": {
    "collapsed": true
   },
   "outputs": [],
   "source": [
    "def default_gbr(clf, sets):\n",
    "    x_train, x_test, y_train, y_test = sets\n",
    "    clf.fit(x_train, y_train)\n",
    "    y_pred = clf.predict(x_test)\n",
    "    mse = metrics.mean_squared_error(y_test, y_pred)\n",
    "    #print('default mse %f' % mse)\n",
    "    return mse"
   ]
  },
  {
   "cell_type": "code",
   "execution_count": 3,
   "metadata": {
    "collapsed": true
   },
   "outputs": [],
   "source": [
    "def best_gbr(clf, sets, param_grid, scoring=\"neg_mean_squared_error\",):\n",
    "    x_train, x_test, y_train, y_test = sets\n",
    "    \n",
    "    # grid search\n",
    "    grid_search = GridSearchCV(clf, param_grid, scoring=scoring, n_jobs=4, verbose=1, cv=3)\n",
    "    grid_result = grid_search.fit(x_train, y_train)\n",
    "    \n",
    "    print(\"grid search acc: %f using %s\" % (-grid_result.best_score_, grid_result.best_params_))\n",
    "    \n",
    "    # re-fit by best parameter\n",
    "    clf_bestparam = GradientBoostingRegressor(max_depth=grid_result.best_params_['max_depth'], \n",
    "                    n_estimators=grid_result.best_params_['n_estimators'])    \n",
    "    clf_bestparam.fit(x_train, y_train)    \n",
    "    y_pred = clf_bestparam.predict(x_test)\n",
    "    mse_bestparam = metrics.mean_squared_error(y_test, y_pred)\n",
    "    #print('after grid mse %f' % mse_bestparam)\n",
    "    return mse_bestparam"
   ]
  },
  {
   "cell_type": "code",
   "execution_count": 4,
   "metadata": {},
   "outputs": [],
   "source": [
    "def cmp_gbr(name, clf, sets, param_grid):\n",
    "    mse0 = default_gbr(clf, sets)\n",
    "    mse1 = best_gbr(clf, sets, param_grid)\n",
    "    print('mse of %s: default=%f, best=%f'% (name, mse0, mse1))"
   ]
  },
  {
   "cell_type": "code",
   "execution_count": 5,
   "metadata": {
    "collapsed": true
   },
   "outputs": [],
   "source": [
    "gbr = GradientBoostingRegressor(random_state=7)"
   ]
  },
  {
   "cell_type": "code",
   "execution_count": 6,
   "metadata": {
    "collapsed": true
   },
   "outputs": [],
   "source": [
    "iris = datasets.load_iris()\n",
    "boston = datasets.load_boston()\n",
    "wine = datasets.load_wine()"
   ]
  },
  {
   "cell_type": "code",
   "execution_count": 7,
   "metadata": {
    "collapsed": true
   },
   "outputs": [],
   "source": [
    "iris_sets = train_test_split(iris.data, iris.target, test_size=0.25, random_state=4)\n",
    "boston_sets = train_test_split(boston.data, boston.target, test_size=0.25, random_state=4)\n",
    "wine_sets = train_test_split(wine.data, wine.target, test_size=0.25, random_state=4)"
   ]
  },
  {
   "cell_type": "code",
   "execution_count": 10,
   "metadata": {
    "collapsed": true
   },
   "outputs": [],
   "source": [
    "gbr_param_grid = dict(n_estimators=[50,75,100,200], max_depth=[1,3,5,7])"
   ]
  },
  {
   "cell_type": "code",
   "execution_count": 11,
   "metadata": {},
   "outputs": [
    {
     "name": "stdout",
     "output_type": "stream",
     "text": [
      "Fitting 3 folds for each of 16 candidates, totalling 48 fits\n"
     ]
    },
    {
     "name": "stderr",
     "output_type": "stream",
     "text": [
      "[Parallel(n_jobs=4)]: Using backend LokyBackend with 4 concurrent workers.\n",
      "[Parallel(n_jobs=4)]: Done  48 out of  48 | elapsed:    0.5s finished\n",
      "[Parallel(n_jobs=4)]: Using backend LokyBackend with 4 concurrent workers.\n"
     ]
    },
    {
     "name": "stdout",
     "output_type": "stream",
     "text": [
      "grid search acc: 0.020517 using {'max_depth': 5, 'n_estimators': 50}\n",
      "mse of iris: default=0.020740, best=0.026081\n",
      "Fitting 3 folds for each of 16 candidates, totalling 48 fits\n"
     ]
    },
    {
     "name": "stderr",
     "output_type": "stream",
     "text": [
      "[Parallel(n_jobs=4)]: Done  48 out of  48 | elapsed:    1.0s finished\n",
      "C:\\Users\\User\\Anaconda3\\lib\\site-packages\\sklearn\\model_selection\\_search.py:841: DeprecationWarning: The default of the `iid` parameter will change from True to False in version 0.22 and will be removed in 0.24. This will change numeric results when test-set sizes are unequal.\n",
      "  DeprecationWarning)\n",
      "[Parallel(n_jobs=4)]: Using backend LokyBackend with 4 concurrent workers.\n"
     ]
    },
    {
     "name": "stdout",
     "output_type": "stream",
     "text": [
      "grid search acc: 10.783516 using {'max_depth': 3, 'n_estimators': 200}\n",
      "mse of boston: default=10.599670, best=11.450995\n",
      "Fitting 3 folds for each of 16 candidates, totalling 48 fits\n",
      "grid search acc: 0.036940 using {'max_depth': 3, 'n_estimators': 50}\n",
      "mse of wine: default=0.031755, best=0.029182\n"
     ]
    },
    {
     "name": "stderr",
     "output_type": "stream",
     "text": [
      "[Parallel(n_jobs=4)]: Done  48 out of  48 | elapsed:    0.5s finished\n",
      "C:\\Users\\User\\Anaconda3\\lib\\site-packages\\sklearn\\model_selection\\_search.py:841: DeprecationWarning: The default of the `iid` parameter will change from True to False in version 0.22 and will be removed in 0.24. This will change numeric results when test-set sizes are unequal.\n",
      "  DeprecationWarning)\n"
     ]
    }
   ],
   "source": [
    "for name,sets in zip(('iris', 'boston', 'wine'), (iris_sets, boston_sets, wine_sets)):\n",
    "    cmp_gbr(name, gbr, sets, gbr_param_grid)"
   ]
  },
  {
   "cell_type": "code",
   "execution_count": null,
   "metadata": {
    "collapsed": true
   },
   "outputs": [],
   "source": []
  }
 ],
 "metadata": {
  "kernelspec": {
   "display_name": "Python 3",
   "language": "python",
   "name": "python3"
  },
  "language_info": {
   "codemirror_mode": {
    "name": "ipython",
    "version": 3
   },
   "file_extension": ".py",
   "mimetype": "text/x-python",
   "name": "python",
   "nbconvert_exporter": "python",
   "pygments_lexer": "ipython3",
   "version": "3.6.3"
  }
 },
 "nbformat": 4,
 "nbformat_minor": 2
}

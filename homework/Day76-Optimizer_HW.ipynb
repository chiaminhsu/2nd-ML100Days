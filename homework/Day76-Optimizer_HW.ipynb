{
 "cells": [
  {
   "cell_type": "markdown",
   "metadata": {},
   "source": [
    "\n",
    "# 作業: \n",
    "    \n",
    "    (1)以, Adam, 為例, 調整 batch_size, epoch , 觀察accurancy, loss 的變化\n",
    "    \n",
    "    (2)以同一模型, 分別驗證 SGD, Adam, Rmsprop 的 accurancy"
   ]
  },
  {
   "cell_type": "code",
   "execution_count": 2,
   "metadata": {},
   "outputs": [],
   "source": [
    "from __future__ import print_function\n",
    "import keras\n",
    "from keras.datasets import cifar10\n",
    "from keras.preprocessing.image import ImageDataGenerator\n",
    "from keras.models import Sequential\n",
    "from keras.layers import Dense, Dropout, Activation, Flatten\n",
    "from keras.layers import Conv2D, MaxPooling2D\n",
    "import os\n",
    "from keras import optimizers\n",
    "import tensorflow as tf\n",
    "import matplotlib.pyplot as plt\n",
    "%matplotlib inline"
   ]
  },
  {
   "cell_type": "code",
   "execution_count": null,
   "metadata": {},
   "outputs": [],
   "source": [
    "#Blas GEMM launch failed , 避免動態分配GPU / CPU, 出現問題\n",
    "import tensorflow as tf\n",
    "gpu_options = tf.GPUOptions(per_process_gpu_memory_fraction=0.333)\n",
    "sess = tf.Session(config=tf.ConfigProto(gpu_options=gpu_options))"
   ]
  },
  {
   "cell_type": "code",
   "execution_count": 3,
   "metadata": {},
   "outputs": [],
   "source": [
    "\n",
    "'''\n",
    "   宣告並設定\n",
    "   batch_size：對總的樣本數進行分組，每組包含的樣本數量\n",
    "   epochs ：訓練次數\n",
    "   \n",
    "''' \n",
    "\n",
    "batch_size = 32\n",
    "num_classes = 10\n",
    "epochs = 20\n",
    "data_augmentation = True\n",
    "num_predictions = 20\n",
    "save_dir = os.path.join(os.getcwd(), 'saved_models')\n",
    "model_name = 'keras_cifar10_trained_model.h5'"
   ]
  },
  {
   "cell_type": "code",
   "execution_count": 4,
   "metadata": {},
   "outputs": [
    {
     "name": "stdout",
     "output_type": "stream",
     "text": [
      "x_train shape: (50000, 32, 32, 3)\n",
      "50000 train samples\n",
      "10000 test samples\n"
     ]
    }
   ],
   "source": [
    "# The data, split between train and test sets:\n",
    "(x_train, y_train), (x_test, y_test) = cifar10.load_data()\n",
    "print('x_train shape:', x_train.shape)\n",
    "print(x_train.shape[0], 'train samples')\n",
    "print(x_test.shape[0], 'test samples')\n",
    "\n",
    "# Convert class vectors to binary class matrices.\n",
    "y_train = keras.utils.to_categorical(y_train, num_classes)\n",
    "y_test = keras.utils.to_categorical(y_test, num_classes) "
   ]
  },
  {
   "cell_type": "code",
   "execution_count": 5,
   "metadata": {},
   "outputs": [
    {
     "name": "stdout",
     "output_type": "stream",
     "text": [
      "WARNING:tensorflow:From C:\\Users\\User\\Anaconda3\\lib\\site-packages\\tensorflow\\python\\framework\\op_def_library.py:263: colocate_with (from tensorflow.python.framework.ops) is deprecated and will be removed in a future version.\n",
      "Instructions for updating:\n",
      "Colocations handled automatically by placer.\n",
      "WARNING:tensorflow:From C:\\Users\\User\\Anaconda3\\lib\\site-packages\\keras\\backend\\tensorflow_backend.py:3445: calling dropout (from tensorflow.python.ops.nn_ops) with keep_prob is deprecated and will be removed in a future version.\n",
      "Instructions for updating:\n",
      "Please use `rate` instead of `keep_prob`. Rate should be set to `rate = 1 - keep_prob`.\n"
     ]
    }
   ],
   "source": [
    "#    第一步：選擇模型, 順序模型是多個網絡層的線性堆疊\n",
    " \n",
    "model = Sequential()\n",
    "\n",
    "#   第二步：構建網絡層\n",
    "model.add(Conv2D(32, (3, 3), padding='same',\n",
    "                 input_shape=x_train.shape[1:]))\n",
    "model.add(Activation('relu'))\n",
    "model.add(Conv2D(32, (3, 3)))\n",
    "model.add(Activation('relu'))\n",
    "model.add(MaxPooling2D(pool_size=(2, 2)))\n",
    "model.add(Dropout(0.25))\n",
    "\n",
    "model.add(Conv2D(64, (3, 3), padding='same'))\n",
    "model.add(Activation('relu'))\n",
    "model.add(Conv2D(64, (3, 3)))\n",
    "model.add(Activation('relu'))\n",
    "model.add(MaxPooling2D(pool_size=(2, 2)))\n",
    "model.add(Dropout(0.25))\n",
    "\n",
    "model.add(Flatten())\n",
    "model.add(Dense(512))\n",
    "model.add(Activation('relu'))\n",
    "model.add(Dropout(0.5))\n",
    "\n",
    "model.add(Dense( 10)) # 輸出結果是10個類別，所以維度是10   \n",
    "model.add(Activation('softmax')) # 最後一層用softmax作為激活函數"
   ]
  },
  {
   "cell_type": "code",
   "execution_count": 6,
   "metadata": {},
   "outputs": [
    {
     "name": "stdout",
     "output_type": "stream",
     "text": [
      "Total Parameters：1250858\n"
     ]
    }
   ],
   "source": [
    "# 模型建立完成後，統計參數總量\n",
    "print(\"Total Parameters：%d\" % model.count_params())"
   ]
  },
  {
   "cell_type": "code",
   "execution_count": 7,
   "metadata": {},
   "outputs": [
    {
     "name": "stdout",
     "output_type": "stream",
     "text": [
      "_________________________________________________________________\n",
      "Layer (type)                 Output Shape              Param #   \n",
      "=================================================================\n",
      "conv2d_1 (Conv2D)            (None, 32, 32, 32)        896       \n",
      "_________________________________________________________________\n",
      "activation_1 (Activation)    (None, 32, 32, 32)        0         \n",
      "_________________________________________________________________\n",
      "conv2d_2 (Conv2D)            (None, 30, 30, 32)        9248      \n",
      "_________________________________________________________________\n",
      "activation_2 (Activation)    (None, 30, 30, 32)        0         \n",
      "_________________________________________________________________\n",
      "max_pooling2d_1 (MaxPooling2 (None, 15, 15, 32)        0         \n",
      "_________________________________________________________________\n",
      "dropout_1 (Dropout)          (None, 15, 15, 32)        0         \n",
      "_________________________________________________________________\n",
      "conv2d_3 (Conv2D)            (None, 15, 15, 64)        18496     \n",
      "_________________________________________________________________\n",
      "activation_3 (Activation)    (None, 15, 15, 64)        0         \n",
      "_________________________________________________________________\n",
      "conv2d_4 (Conv2D)            (None, 13, 13, 64)        36928     \n",
      "_________________________________________________________________\n",
      "activation_4 (Activation)    (None, 13, 13, 64)        0         \n",
      "_________________________________________________________________\n",
      "max_pooling2d_2 (MaxPooling2 (None, 6, 6, 64)          0         \n",
      "_________________________________________________________________\n",
      "dropout_2 (Dropout)          (None, 6, 6, 64)          0         \n",
      "_________________________________________________________________\n",
      "flatten_1 (Flatten)          (None, 2304)              0         \n",
      "_________________________________________________________________\n",
      "dense_1 (Dense)              (None, 512)               1180160   \n",
      "_________________________________________________________________\n",
      "activation_5 (Activation)    (None, 512)               0         \n",
      "_________________________________________________________________\n",
      "dropout_3 (Dropout)          (None, 512)               0         \n",
      "_________________________________________________________________\n",
      "dense_2 (Dense)              (None, 10)                5130      \n",
      "_________________________________________________________________\n",
      "activation_6 (Activation)    (None, 10)                0         \n",
      "=================================================================\n",
      "Total params: 1,250,858\n",
      "Trainable params: 1,250,858\n",
      "Non-trainable params: 0\n",
      "_________________________________________________________________\n"
     ]
    }
   ],
   "source": [
    "# 輸出模型摘要資訊\n",
    "model.summary()"
   ]
  },
  {
   "cell_type": "code",
   "execution_count": 8,
   "metadata": {},
   "outputs": [],
   "source": [
    "'''\n",
    " SGD(隨機梯度下降) - Arguments\n",
    "lr: float >= 0. Learning rate.\n",
    "momentum: float >= 0. Parameter that accelerates SGD in the relevant direction and dampens oscillations.\n",
    "decay: float >= 0. Learning rate decay over each update.\n",
    "nesterov: boolean. Whether to apply Nesterov momentum.\n",
    "'''\n",
    "sgd = optimizers.SGD(lr = 0.01, decay=1e-6, momentum=0.9, nesterov=True)\n",
    "\n",
    "'''\n",
    "RMSprop- Arguments\n",
    "lr: float >= 0. Learning rate.\n",
    "rho: float >= 0.\n",
    "epsilon: float >= 0. Fuzz factor. If None, defaults to K.epsilon().\n",
    "decay: float >= 0. Learning rate decay over each update.\n",
    "'''\n",
    "rmsprop = keras.optimizers.RMSprop(lr=0.01, rho=0.9, epsilon=None, decay=0.0)\n",
    "\n",
    "adam = keras.optimizers.Adam(lr=0.01, beta_1=0.9, beta_2=0.999, epsilon=None, decay=0.0, amsgrad=False)\n"
   ]
  },
  {
   "cell_type": "code",
   "execution_count": 9,
   "metadata": {},
   "outputs": [],
   "source": [
    "# 資料正規化\n",
    "x_train = x_train.astype('float32')\n",
    "x_test = x_test.astype('float32')\n",
    "x_train /= 255\n",
    "x_test /= 255"
   ]
  },
  {
   "cell_type": "code",
   "execution_count": 15,
   "metadata": {},
   "outputs": [],
   "source": [
    "def hw_fit(model, data_augmentation=False):\n",
    "    if not data_augmentation:\n",
    "        print('Not using data augmentation.')\n",
    "        history=model.fit(x_train, y_train,\n",
    "              batch_size=batch_size,\n",
    "              epochs=epochs,\n",
    "              validation_data=(x_test, y_test),\n",
    "              shuffle=True)\n",
    "    else:\n",
    "        print('Using real-time data augmentation.')\n",
    "        print('')\n",
    "        \n",
    "        # This will do preprocessing and realtime data augmentation:\n",
    "        datagen = ImageDataGenerator(\n",
    "            featurewise_center=False,  # set input mean to 0 over the dataset\n",
    "            samplewise_center=False,  # set each sample mean to 0\n",
    "            featurewise_std_normalization=False,  # divide inputs by std of the dataset\n",
    "            samplewise_std_normalization=False,  # divide each input by its std\n",
    "            zca_whitening=False,  # apply ZCA whitening\n",
    "            zca_epsilon=1e-06,  # epsilon for ZCA whitening\n",
    "            rotation_range=0,  # randomly rotate images in the range (degrees, 0 to 180)\n",
    "            # randomly shift images horizontally (fraction of total width)\n",
    "            width_shift_range=0.1,\n",
    "            # randomly shift images vertically (fraction of total height)\n",
    "            height_shift_range=0.1,\n",
    "            shear_range=0.,  # set range for random shear\n",
    "            zoom_range=0.,  # set range for random zoom\n",
    "            channel_shift_range=0.,  # set range for random channel shifts\n",
    "            # set mode for filling points outside the input boundaries\n",
    "            fill_mode='nearest',\n",
    "            cval=0.,  # value used for fill_mode = \"constant\"\n",
    "            horizontal_flip=True,  # randomly flip images\n",
    "            vertical_flip=False,  # randomly flip images\n",
    "            # set rescaling factor (applied before any other transformation)\n",
    "            rescale=None,\n",
    "            # set function that will be applied on each input\n",
    "            preprocessing_function=None,\n",
    "            # image data format, either \"channels_first\" or \"channels_last\"\n",
    "            data_format=None,\n",
    "            # fraction of images reserved for validation (strictly between 0 and 1)\n",
    "            validation_split=0.0)\n",
    "        \n",
    "        # Compute quantities required for feature-wise normalization\n",
    "        # (std, mean, and principal components if ZCA whitening is applied).\n",
    "        datagen.fit(x_train)\n",
    "        history=model.fit(x_train, y_train,\n",
    "                          batch_size=batch_size,\n",
    "                          epochs=epochs,\n",
    "                          validation_data=(x_test, y_test),\n",
    "                          shuffle=True)   \n",
    "    return history"
   ]
  },
  {
   "cell_type": "code",
   "execution_count": 16,
   "metadata": {},
   "outputs": [],
   "source": [
    "def show(history):\n",
    "    import matplotlib.pyplot as plt\n",
    "    %matplotlib inline\n",
    "    # Plot training & validation accuracy values\n",
    "    plt.plot(history.history['acc'])\n",
    "    plt.plot(history.history['val_acc'])\n",
    "    plt.title('Model accuracy')\n",
    "    plt.ylabel('Accuracy')\n",
    "    plt.xlabel('Epoch')\n",
    "    plt.legend(['Train', 'Valiidation'], loc='upper left')\n",
    "    plt.show()\n",
    "    \n",
    "    # Plot training & validation loss values\n",
    "    plt.plot(history.history['loss'])\n",
    "    plt.plot(history.history['val_loss'])\n",
    "    plt.title('Model loss')\n",
    "    plt.ylabel('Loss')\n",
    "    plt.xlabel('Epoch')\n",
    "    plt.legend(['Train', 'Valiidation'], loc='upper left')\n",
    "    plt.show()"
   ]
  },
  {
   "cell_type": "code",
   "execution_count": 18,
   "metadata": {},
   "outputs": [
    {
     "name": "stdout",
     "output_type": "stream",
     "text": [
      "Using real-time data augmentation.\n",
      "\n",
      "WARNING:tensorflow:From C:\\Users\\User\\Anaconda3\\lib\\site-packages\\tensorflow\\python\\ops\\math_ops.py:3066: to_int32 (from tensorflow.python.ops.math_ops) is deprecated and will be removed in a future version.\n",
      "Instructions for updating:\n",
      "Use tf.cast instead.\n",
      "Train on 50000 samples, validate on 10000 samples\n",
      "Epoch 1/20\n",
      "50000/50000 [==============================] - 17s 332us/step - loss: 0.3263 - acc: 0.8999 - val_loss: 0.3252 - val_acc: 0.9000\n",
      "Epoch 2/20\n",
      "50000/50000 [==============================] - 12s 237us/step - loss: 0.3252 - acc: 0.9000 - val_loss: 0.3251 - val_acc: 0.9000\n",
      "Epoch 3/20\n",
      "50000/50000 [==============================] - 12s 239us/step - loss: 0.3252 - acc: 0.9000 - val_loss: 0.3252 - val_acc: 0.9000\n",
      "Epoch 4/20\n",
      "50000/50000 [==============================] - 12s 238us/step - loss: 0.3252 - acc: 0.9000 - val_loss: 0.3253 - val_acc: 0.9000\n",
      "Epoch 5/20\n",
      "50000/50000 [==============================] - 12s 238us/step - loss: 0.3252 - acc: 0.9000 - val_loss: 0.3251 - val_acc: 0.9000\n",
      "Epoch 6/20\n",
      "50000/50000 [==============================] - 12s 243us/step - loss: 0.3252 - acc: 0.9000 - val_loss: 0.3252 - val_acc: 0.9000\n",
      "Epoch 7/20\n",
      "50000/50000 [==============================] - 12s 245us/step - loss: 0.3252 - acc: 0.9000 - val_loss: 0.3252 - val_acc: 0.9000\n",
      "Epoch 8/20\n",
      "50000/50000 [==============================] - 12s 248us/step - loss: 0.3252 - acc: 0.9000 - val_loss: 0.3252 - val_acc: 0.9000\n",
      "Epoch 9/20\n",
      "50000/50000 [==============================] - 12s 245us/step - loss: 0.3252 - acc: 0.9000 - val_loss: 0.3252 - val_acc: 0.9000\n",
      "Epoch 10/20\n",
      "50000/50000 [==============================] - 12s 243us/step - loss: 0.3252 - acc: 0.9000 - val_loss: 0.3252 - val_acc: 0.9000\n",
      "Epoch 11/20\n",
      "50000/50000 [==============================] - 12s 243us/step - loss: 0.3252 - acc: 0.9000 - val_loss: 0.3252 - val_acc: 0.9000\n",
      "Epoch 12/20\n",
      "50000/50000 [==============================] - 12s 244us/step - loss: 0.3252 - acc: 0.9000 - val_loss: 0.3252 - val_acc: 0.9000\n",
      "Epoch 13/20\n",
      "50000/50000 [==============================] - 12s 240us/step - loss: 0.3252 - acc: 0.9000 - val_loss: 0.3252 - val_acc: 0.9000\n",
      "Epoch 14/20\n",
      "50000/50000 [==============================] - 12s 238us/step - loss: 0.3252 - acc: 0.9000 - val_loss: 0.3253 - val_acc: 0.9000\n",
      "Epoch 15/20\n",
      "50000/50000 [==============================] - 12s 242us/step - loss: 0.3252 - acc: 0.9000 - val_loss: 0.3252 - val_acc: 0.9000\n",
      "Epoch 16/20\n",
      "50000/50000 [==============================] - 12s 243us/step - loss: 0.3252 - acc: 0.9000 - val_loss: 0.3252 - val_acc: 0.9000\n",
      "Epoch 17/20\n",
      "50000/50000 [==============================] - 12s 238us/step - loss: 0.3252 - acc: 0.9000 - val_loss: 0.3251 - val_acc: 0.9000\n",
      "Epoch 18/20\n",
      "50000/50000 [==============================] - 12s 246us/step - loss: 0.3252 - acc: 0.9000 - val_loss: 0.3252 - val_acc: 0.9000\n",
      "Epoch 19/20\n",
      "50000/50000 [==============================] - 12s 241us/step - loss: 0.3252 - acc: 0.9000 - val_loss: 0.3251 - val_acc: 0.9000\n",
      "Epoch 20/20\n",
      "50000/50000 [==============================] - 12s 244us/step - loss: 0.3252 - acc: 0.9000 - val_loss: 0.3252 - val_acc: 0.9000\n"
     ]
    },
    {
     "data": {
      "image/png": "[encoded data removed]",
      "text/plain": [
       "<Figure size 432x288 with 1 Axes>"
      ]
     },
     "metadata": {
      "needs_background": "light"
     },
     "output_type": "display_data"
    },
    {
     "data": {
      "image/png": "[encoded data removed]",
      "text/plain": [
       "<Figure size 432x288 with 1 Axes>"
      ]
     },
     "metadata": {
      "needs_background": "light"
     },
     "output_type": "display_data"
    }
   ],
   "source": [
    "model.compile(optimizer = adam, loss = 'binary_crossentropy', metrics = ['accuracy'])\n",
    "history = hw_fit(model, data_augmentation)\n",
    "show(history)"
   ]
  },
  {
   "cell_type": "code",
   "execution_count": null,
   "metadata": {},
   "outputs": [],
   "source": [
    "'''\n",
    "train.shape = (50000, 32, 32, 3)\n",
    "batch_size, epoches = 32, 20\n",
    "'''"
   ]
  },
  {
   "cell_type": "code",
   "execution_count": 21,
   "metadata": {},
   "outputs": [
    {
     "data": {
      "text/plain": [
       "1562.5"
      ]
     },
     "execution_count": 21,
     "metadata": {},
     "output_type": "execute_result"
    }
   ],
   "source": [
    "50000/32"
   ]
  },
  {
   "cell_type": "code",
   "execution_count": 20,
   "metadata": {},
   "outputs": [
    {
     "data": {
      "text/plain": [
       "195.3125"
      ]
     },
     "execution_count": 20,
     "metadata": {},
     "output_type": "execute_result"
    }
   ],
   "source": [
    "50000/256"
   ]
  },
  {
   "cell_type": "code",
   "execution_count": 22,
   "metadata": {},
   "outputs": [
    {
     "name": "stdout",
     "output_type": "stream",
     "text": [
      "Using real-time data augmentation.\n",
      "\n",
      "Train on 50000 samples, validate on 10000 samples\n",
      "Epoch 1/10\n",
      "50000/50000 [==============================] - 6s 113us/step - loss: 0.3253 - acc: 0.9000 - val_loss: 0.3252 - val_acc: 0.9000\n",
      "Epoch 2/10\n",
      "50000/50000 [==============================] - 5s 97us/step - loss: 0.3252 - acc: 0.9000 - val_loss: 0.3251 - val_acc: 0.9000\n",
      "Epoch 3/10\n",
      "50000/50000 [==============================] - 5s 96us/step - loss: 0.3251 - acc: 0.9000 - val_loss: 0.3252 - val_acc: 0.9000\n",
      "Epoch 4/10\n",
      "50000/50000 [==============================] - 5s 97us/step - loss: 0.3252 - acc: 0.9000 - val_loss: 0.3251 - val_acc: 0.9000\n",
      "Epoch 5/10\n",
      "50000/50000 [==============================] - 5s 94us/step - loss: 0.3252 - acc: 0.9000 - val_loss: 0.3251 - val_acc: 0.9000\n",
      "Epoch 6/10\n",
      "50000/50000 [==============================] - 5s 97us/step - loss: 0.3251 - acc: 0.9000 - val_loss: 0.3251 - val_acc: 0.9000\n",
      "Epoch 7/10\n",
      "50000/50000 [==============================] - 5s 98us/step - loss: 0.3252 - acc: 0.9000 - val_loss: 0.3251 - val_acc: 0.9000\n",
      "Epoch 8/10\n",
      "50000/50000 [==============================] - 5s 98us/step - loss: 0.3251 - acc: 0.9000 - val_loss: 0.3251 - val_acc: 0.9000\n",
      "Epoch 9/10\n",
      "50000/50000 [==============================] - 5s 98us/step - loss: 0.3251 - acc: 0.9000 - val_loss: 0.3251 - val_acc: 0.9000\n",
      "Epoch 10/10\n",
      "50000/50000 [==============================] - 5s 98us/step - loss: 0.3251 - acc: 0.9000 - val_loss: 0.3251 - val_acc: 0.9000\n"
     ]
    },
    {
     "data": {
      "image/png": "[encoded data removed]",
      "text/plain": [
       "<Figure size 432x288 with 1 Axes>"
      ]
     },
     "metadata": {
      "needs_background": "light"
     },
     "output_type": "display_data"
    },
    {
     "data": {
      "image/png": "[encoded data removed]",
      "text/plain": [
       "<Figure size 432x288 with 1 Axes>"
      ]
     },
     "metadata": {
      "needs_background": "light"
     },
     "output_type": "display_data"
    }
   ],
   "source": [
    "batch_size, epochs = 256, 10\n",
    "model.compile(optimizer = adam, loss = 'binary_crossentropy', metrics = ['accuracy'])\n",
    "history = hw_fit(model, data_augmentation)\n",
    "show(history)"
   ]
  },
  {
   "cell_type": "code",
   "execution_count": 23,
   "metadata": {},
   "outputs": [
    {
     "name": "stdout",
     "output_type": "stream",
     "text": [
      "Using real-time data augmentation.\n",
      "\n",
      "Train on 50000 samples, validate on 10000 samples\n",
      "Epoch 1/10\n",
      "50000/50000 [==============================] - 11s 224us/step - loss: 0.3251 - acc: 0.9000 - val_loss: 0.3251 - val_acc: 0.9000\n",
      "Epoch 2/10\n",
      "50000/50000 [==============================] - 11s 210us/step - loss: 0.3251 - acc: 0.9000 - val_loss: 0.3251 - val_acc: 0.9000\n",
      "Epoch 3/10\n",
      "50000/50000 [==============================] - 11s 212us/step - loss: 0.3251 - acc: 0.9000 - val_loss: 0.3251 - val_acc: 0.9000\n",
      "Epoch 4/10\n",
      "50000/50000 [==============================] - 10s 206us/step - loss: 0.3251 - acc: 0.9000 - val_loss: 0.3251 - val_acc: 0.9000\n",
      "Epoch 5/10\n",
      "50000/50000 [==============================] - 11s 215us/step - loss: 0.3251 - acc: 0.9000 - val_loss: 0.3251 - val_acc: 0.9000\n",
      "Epoch 6/10\n",
      "50000/50000 [==============================] - 11s 222us/step - loss: 0.3251 - acc: 0.9000 - val_loss: 0.3251 - val_acc: 0.9000\n",
      "Epoch 7/10\n",
      "50000/50000 [==============================] - 11s 218us/step - loss: 0.3251 - acc: 0.9000 - val_loss: 0.3251 - val_acc: 0.9000\n",
      "Epoch 8/10\n",
      "50000/50000 [==============================] - 12s 244us/step - loss: 0.3251 - acc: 0.9000 - val_loss: 0.3251 - val_acc: 0.9000\n",
      "Epoch 9/10\n",
      "50000/50000 [==============================] - 11s 211us/step - loss: 0.3251 - acc: 0.9000 - val_loss: 0.3251 - val_acc: 0.9000\n",
      "Epoch 10/10\n",
      "50000/50000 [==============================] - 11s 211us/step - loss: 0.3251 - acc: 0.9000 - val_loss: 0.3251 - val_acc: 0.9000\n"
     ]
    },
    {
     "data": {
      "image/png": "[encoded data removed]",
      "text/plain": [
       "<Figure size 432x288 with 1 Axes>"
      ]
     },
     "metadata": {
      "needs_background": "light"
     },
     "output_type": "display_data"
    },
    {
     "data": {
      "image/png": "[encoded data removed]",
      "text/plain": [
       "<Figure size 432x288 with 1 Axes>"
      ]
     },
     "metadata": {
      "needs_background": "light"
     },
     "output_type": "display_data"
    }
   ],
   "source": [
    "batch_size, epoches = 32, 20\n",
    "model.compile(optimizer = sgd, loss = 'binary_crossentropy', metrics = ['accuracy'])\n",
    "history = hw_fit(model, data_augmentation)\n",
    "show(history)"
   ]
  },
  {
   "cell_type": "code",
   "execution_count": null,
   "metadata": {},
   "outputs": [
    {
     "name": "stdout",
     "output_type": "stream",
     "text": [
      "Using real-time data augmentation.\n",
      "\n",
      "Train on 50000 samples, validate on 10000 samples\n",
      "Epoch 1/10\n",
      "50000/50000 [==============================] - 12s 242us/step - loss: 0.3252 - acc: 0.9000 - val_loss: 0.3253 - val_acc: 0.9000\n",
      "Epoch 2/10\n",
      "50000/50000 [==============================] - 11s 226us/step - loss: 0.3252 - acc: 0.9000 - val_loss: 0.3253 - val_acc: 0.9000\n",
      "Epoch 3/10\n",
      "50000/50000 [==============================] - 12s 232us/step - loss: 0.3253 - acc: 0.9000 - val_loss: 0.3253 - val_acc: 0.9000\n",
      "Epoch 4/10\n",
      "50000/50000 [==============================] - 11s 226us/step - loss: 0.3252 - acc: 0.9000 - val_loss: 0.3253 - val_acc: 0.9000\n",
      "Epoch 5/10\n",
      "50000/50000 [==============================] - 11s 225us/step - loss: 0.3252 - acc: 0.9000 - val_loss: 0.3252 - val_acc: 0.9000\n",
      "Epoch 6/10\n",
      "50000/50000 [==============================] - 11s 226us/step - loss: 0.3252 - acc: 0.9000 - val_loss: 0.3253 - val_acc: 0.9000\n",
      "Epoch 7/10\n",
      "49920/50000 [============================>.] - ETA: 0s - loss: 0.3252 - acc: 0.9000"
     ]
    }
   ],
   "source": [
    "batch_size, epoches = 32, 20\n",
    "model.compile(optimizer = rmsprop, loss = 'binary_crossentropy', metrics = ['accuracy'])\n",
    "history = hw_fit(model, data_augmentation)\n",
    "show(history)"
   ]
  },
  {
   "cell_type": "code",
   "execution_count": null,
   "metadata": {},
   "outputs": [],
   "source": [
    "def train(opt, batch_size = 32, epochs=1000):\n",
    "    model.compile(optimizer = opt, loss = 'binary_crossentropy', metrics = ['accuracy'])\n",
    "    gpu_options = tf.GPUOptions(per_process_gpu_memory_fraction=0.5)\n",
    "    sess = tf.Session(config=tf.ConfigProto(gpu_options=gpu_options))\n",
    "    \n",
    "    #training\n",
    "    history = model.fit(X_train,Y_train,batch_size = batch_size, epochs=epochs, \n",
    "                        shuffle=True,verbose=2,validation_split=0.3 )\n",
    "    \n",
    "    #test\n",
    "    print ( \" test set \" )\n",
    "    scores batch_size, epoches = 32, 20\n",
    "model.compile(optimizer = adam, loss = 'binary_crossentropy', metrics = ['accuracy'])\n",
    "history = hw_fit(model, data_augmentation)\n",
    "show(history)= model.evaluate(X_test,Y_test,batch_size=batch_size,verbose= 0)\n",
    "    print ( \"\" )\n",
    "    print ( \" The test loss is %f \", scores)\n",
    "    result = model.predict(X_test,batch_size=batch_size,verbose= 0)\n",
    "    \n",
    "    result_max = numpy.argmax(result, axis = 1 )\n",
    "    test_max = numpy.argmax(Y_test, axis = 1 )\n",
    "    result_bool = numpy.equal(result_max, test_max)\n",
    "    true_num = numpy.sum(result_bool)\n",
    "    print ( \"\" )\n",
    "    print ( \" The accuracy of the model is %f \" % (true_num/len(result_bool)))\n",
    "    \n",
    "    # Plot training & validation accuracy values\n",
    "    plt.plot(history.history['acc'])\n",
    "    plt.plot(history.history['val_acc'])\n",
    "    plt.title('Model accuracy')\n",
    "    plt.ylabel('Accuracy')\n",
    "    plt.xlabel('Epoch')\n",
    "    plt.legend(['Train', 'Test'], loc='upper left')\n",
    "    plt.show()\n",
    "    \n",
    "    # Plot training & validation loss values\n",
    "    plt.plot(history.history['loss'])\n",
    "    plt.plot(history.history['val_loss'])\n",
    "    plt.title('Model loss')\n",
    "    plt.ylabel('Loss')\n",
    "    plt.xlabel('Epoch')\n",
    "    plt.legend(['Train', 'Test'], loc='upper left')\n",
    "    plt.show()"
   ]
  },
  {
   "cell_type": "code",
   "execution_count": null,
   "metadata": {},
   "outputs": [],
   "source": [
    "for b in [32]:\n",
    "    for ep in [20,10]:\n",
    "        train(adam, b, ep)"
   ]
  },
  {
   "cell_type": "code",
   "execution_count": null,
   "metadata": {},
   "outputs": [],
   "source": [
    "train(sgd, 210, 200)"
   ]
  },
  {
   "cell_type": "code",
   "execution_count": null,
   "metadata": {},
   "outputs": [],
   "source": [
    "train(rmsprop, 210, 200)"
   ]
  }
 ],
 "metadata": {
  "kernelspec": {
   "display_name": "Python 3",
   "language": "python",
   "name": "python3"
  },
  "language_info": {
   "codemirror_mode": {
    "name": "ipython",
    "version": 3
   },
   "file_extension": ".py",
   "mimetype": "text/x-python",
   "name": "python",
   "nbconvert_exporter": "python",
   "pygments_lexer": "ipython3",
   "version": "3.7.3"
  }
 },
 "nbformat": 4,
 "nbformat_minor": 2
}

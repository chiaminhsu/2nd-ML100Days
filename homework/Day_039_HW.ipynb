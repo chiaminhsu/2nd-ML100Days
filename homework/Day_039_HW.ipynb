{
 "cells": [
  {
   "cell_type": "markdown",
   "metadata": {},
   "source": [
    "## [作業重點]\n",
    "清楚了解 L1, L2 的意義與差異為何，並了解 LASSO 與 Ridge 之間的差異與使用情境"
   ]
  },
  {
   "cell_type": "markdown",
   "metadata": {},
   "source": [
    "## 作業"
   ]
  },
  {
   "cell_type": "markdown",
   "metadata": {},
   "source": [
    "請閱讀相關文獻，並回答下列問題\n",
    "\n",
    "[脊回歸 (Ridge Regression)](https://blog.csdn.net/daunxx/article/details/51578787)\n",
    "[Linear, Ridge, Lasso Regression 本質區別](https://www.zhihu.com/question/38121173)\n",
    "\n",
    "1. LASSO 回歸可以被用來作為 Feature selection 的工具，請了解 LASSO 模型為什麼可用來作 Feature selection\n",
    "2. 當自變數 (X) 存在高度共線性時，Ridge Regression 可以處理這樣的問題嗎?\n"
   ]
  },
  {
   "cell_type": "markdown",
   "metadata": {},
   "source": [
    "回答\n",
    "1. LASSO 回歸是將原 loss 加上 L1，L1 = alpha sum(|w|). L1 的等高圖，存在某些維度值為 0 的解。當原 loss 要考慮 L1 時，從等高圖來看，某高度的 loss 希望找到最小的 L1，會先遇上部分維度 (feature) w_i=0 的 L1，這些 w_i = 0, 對 loss 來說則是剔除 feature x_i，讓 x_i 也在 loss 中無作為。所以 LASSO 可作 feature selection。\n",
    "2. 更簡化命題 (x1,x2) 兩者共線性，x1 和 x2 的 loss 的等高線會更傾向扁線型，因 x1 和 x2 的資料集的偏頗而 weighting 劇烈變化。而 Ridge Regression 則將 weighting 向 0 (變小) 集中，可以減少 weighting 震盪。"
   ]
  },
  {
   "cell_type": "code",
   "execution_count": null,
   "metadata": {
    "collapsed": true
   },
   "outputs": [],
   "source": []
  }
 ],
 "metadata": {
  "kernelspec": {
   "display_name": "Python 3",
   "language": "python",
   "name": "python3"
  },
  "language_info": {
   "codemirror_mode": {
    "name": "ipython",
    "version": 3
   },
   "file_extension": ".py",
   "mimetype": "text/x-python",
   "name": "python",
   "nbconvert_exporter": "python",
   "pygments_lexer": "ipython3",
   "version": "3.6.3"
  }
 },
 "nbformat": 4,
 "nbformat_minor": 2
}

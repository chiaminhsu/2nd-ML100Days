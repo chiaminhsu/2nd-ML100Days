{
 "cells": [
  {
   "cell_type": "markdown",
   "metadata": {},
   "source": [
    "## 練習時間\n",
    "相信大家對回歸問題及分類問題都有初步的了解。今天的作業希望大家搜尋有關 multi-label 的案例問題。下圖是電影 \"奇異博士\" 的分類。可以看到同時有 \"Action\", \"Adventure\", \"Fantasy\" 的類別存在，代表這是個多標籤的問題。 "
   ]
  },
  {
   "cell_type": "markdown",
   "metadata": {},
   "source": [
    "![image](https://cdn-images-1.medium.com/max/1000/1*r0gYXMSQf5VhdMyl2bRDyg.png)"
   ]
  },
  {
   "cell_type": "markdown",
   "metadata": {},
   "source": [
    "## 請搜尋目標為多標籤問題 (Multi-label) 的機器學習案例，了解其資料來源、目標以及評估指標為何\n",
    "## Hint: 服飾"
   ]
  },
  {
   "cell_type": "markdown",
   "metadata": {},
   "source": [
    "學習案例： \"Multi-label classification with Keras\" 是服飾的多標籤機器學習分類器. 以 Keras 開發的 multi-label 入門多標籤學習分類器。該學習網源於 https://www.pyimagesearch.com/2018/05/07/multi-label-classification-with-keras/\n",
    "\n",
    "資料來源：由於這是教學網，由 requests 上網(爬蟲)抓圖\n",
    "https://www.pyimagesearch.com/2018/04/09/how-to-quickly-build-a-deep-learning-image-dataset/ ，實現於內部 search_bing_api.py 內。整理後，有 2167 張圖, 6 大類 - 黑牛仔褲, 藍連衣裙, 藍牛仔褲, 藍襯衫, 紅牛仔褲, 紅襯衫. \n",
    "\n",
    "目標：對目標圖作多標籤標示\n",
    "\n",
    "網路架構：SmallerVGGNet，2014 年 Simonyan 和 Zisserman 於 2014 年發表，\"Very Deep Convolution Networks for LArge Scale Image Recognition.\"，教學網再作若干簡化。 論文連結 https://arxiv.org/pdf/1409.1556/ 。\n",
    "\n",
    "評估指標：該學習網並沒有跟某些知名 dataset 評估 (比如 face detection 會以 FDDB dataset 評估), 但 paper 以 ILSVRC dataset 評估，由於是多標籤，有 top-1, top-5 error 等評估指標。\n",
    "\n",
    "\n"
   ]
  }
 ],
 "metadata": {
  "kernelspec": {
   "display_name": "Python 3",
   "language": "python",
   "name": "python3"
  },
  "language_info": {
   "codemirror_mode": {
    "name": "ipython",
    "version": 3
   },
   "file_extension": ".py",
   "mimetype": "text/x-python",
   "name": "python",
   "nbconvert_exporter": "python",
   "pygments_lexer": "ipython3",
   "version": "3.6.3"
  }
 },
 "nbformat": 4,
 "nbformat_minor": 2
}

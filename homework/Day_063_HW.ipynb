{
 "cells": [
  {
   "cell_type": "markdown",
   "metadata": {},
   "source": [
    "# 作業\n",
    "* 在精簡深度學習的方式上 : 卷積類神經 (CNN) 採用像素遠近，而遞歸類神經 (RNN) 採用著則是時間遠近\n",
    "* 那麼，既然有著類似的設計精神，兩者是否有可能互換應用呢?"
   ]
  },
  {
   "cell_type": "markdown",
   "metadata": {
    "collapsed": true
   },
   "source": [
    "Ans: \n",
    "1. 我不明白題意。就所接觸的 CNN，所謂像素遠近，應該是指特徵題取，從整張影像資料，提取到數個特徵。而所接觸的 RNN，內部都有同樣機制，但 input 結構上接受不同時間序列的資料。這樣的 RNN，不就混合了CNN成分？\n",
    "2. 而將不同時間的資列，整合成單一資料進入 CNN，實際上簡易的 voice wake up 也用類似設計，是已經存在的網路設計。\n",
    "3. 在 CNN 中，有許多將不同解析度但給同 CNN 訓練 -- 如果導入 RNN 設計，將不同解析度的 CNN 結果整合判斷，是可以增加正確率 -- \n"
   ]
  }
 ],
 "metadata": {
  "kernelspec": {
   "display_name": "Python 3",
   "language": "python",
   "name": "python3"
  },
  "language_info": {
   "codemirror_mode": {
    "name": "ipython",
    "version": 3
   },
   "file_extension": ".py",
   "mimetype": "text/x-python",
   "name": "python",
   "nbconvert_exporter": "python",
   "pygments_lexer": "ipython3",
   "version": "3.6.3"
  }
 },
 "nbformat": 4,
 "nbformat_minor": 2
}

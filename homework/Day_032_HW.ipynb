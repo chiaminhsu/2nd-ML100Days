{
 "cells": [
  {
   "cell_type": "markdown",
   "metadata": {},
   "source": [
    "## 練習時間\n",
    "相信大家目前都能夠初步了解機器學習專案的流程及步驟，今天的作業希望大家能夠看看全球機器學習巨頭們在做的機器學習專案。以 google 為例，下圖是 Google 內部專案使用機器學習的數量，隨著時間進展，現在早已超過 2000 個專案在使用 ML。"
   ]
  },
  {
   "cell_type": "markdown",
   "metadata": {},
   "source": [
    "![image](https://cdn-images-1.medium.com/max/800/1*U_L8qI8RmYS-MOBrYvXhSA.png)"
   ]
  },
  {
   "cell_type": "markdown",
   "metadata": {},
   "source": [
    "底下幫同學整理幾間知名企業的 blog 或機器學習網站 (自行搜尋也可)，請挑選一篇文章閱讀並試著回答\n",
    "1. 專案的目標？ (要解決什麼問題）\n",
    "2. 使用的技術是？ (只需知道名稱即可，例如：使用 CNN 卷積神經網路做影像分類)\n",
    "3. 資料來源？ "
   ]
  },
  {
   "cell_type": "markdown",
   "metadata": {},
   "source": [
    "- [Google AI blog](https://ai.googleblog.com/)\n",
    "- [Facebook Research blog](https://research.fb.com/blog/)\n",
    "- [Apple machine learning journal](https://machinelearning.apple.com/)\n",
    "- [機器之心](https://www.jiqizhixin.com/)\n",
    "- [雷鋒網](http://www.leiphone.com/category/ai)"
   ]
  },
  {
   "cell_type": "markdown",
   "metadata": {},
   "source": [
    "#  Translatotron\n",
    "   Google AI blog 有推薦新穎的 AI module，5/15 介紹 ＂Translatotron\n",
    "   \n",
    "   ## 目的: 自動語譯\n",
    "     . 協助不同語言的人們能互相交流. \n",
    "     . 正式的模型名稱為 \"Direct speech-to-speech translation with sequence-to-sequence model\" \n",
    "     \n",
    "   ## 技術: LSTM\n",
    "     過去的自動語譯需分割為三步驟 - 1) 語意理解自動化 (automatic speech recognition), 將聲訊理解成文字; 2) 機器翻譯 (machine translation), 將原語言的文字, 機器翻譯成目標語言的文字; 3) 語音合成 (text-to-speedch synthesis, TTS), 由文字擬真成語音。 Translatotraon 則不需要再轉成文字和音訊合成，網路的輸入和輸出都是聲訊，達成 \"A語言聲句-對應-B語言聲句\" 的直接語譯。\n",
    "     Paper 以能處理前後時間列資訊的 LSTM (Long Short Term Memory Network)　設計網路。\n",
    "     \n",
    "   ## 來源: \n",
    "   　https://arxiv.org/abs/1904.06037\n",
    "     \n",
    "     "
   ]
  },
  {
   "cell_type": "code",
   "execution_count": null,
   "metadata": {
    "collapsed": true
   },
   "outputs": [],
   "source": []
  }
 ],
 "metadata": {
  "kernelspec": {
   "display_name": "Python 3",
   "language": "python",
   "name": "python3"
  },
  "language_info": {
   "codemirror_mode": {
    "name": "ipython",
    "version": 3
   },
   "file_extension": ".py",
   "mimetype": "text/x-python",
   "name": "python",
   "nbconvert_exporter": "python",
   "pygments_lexer": "ipython3",
   "version": "3.6.3"
  }
 },
 "nbformat": 4,
 "nbformat_minor": 2
}
